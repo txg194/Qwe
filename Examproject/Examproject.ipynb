{
 "cells": [
  {
   "cell_type": "markdown",
   "id": "23dc0a57-e4a6-47de-9a69-3026e92a8a4a",
   "metadata": {},
   "source": [
    "$$ \\LARGE\\bf{EXAM \\ PROJECT \\ ISDS 2022} $$"
   ]
  },
  {
   "cell_type": "markdown",
   "id": "f5b57cb3-2e70-4ca2-ba57-ad5b601219d4",
   "metadata": {},
   "source": [
    "$\\textbf{Imports}$"
   ]
  },
  {
   "cell_type": "code",
   "execution_count": 10,
   "id": "60619a20-bf7f-419e-b3ab-068dc65073ad",
   "metadata": {},
   "outputs": [],
   "source": [
    "import requests\n",
    "import json\n",
    "import numbers\n",
    "import pandas as pd\n",
    "import time\n",
    "import tqdm\n",
    "from bs4 import BeautifulSoup\n",
    "import warnings\n",
    "warnings.simplefilter(action='ignore', category=FutureWarning)"
   ]
  },
  {
   "cell_type": "markdown",
   "id": "7a061701-74d0-4e2a-8bb0-7557a860b628",
   "metadata": {},
   "source": [
    "$\\textbf{Data}$, housing prices boliga.dk - ONLY FOR FIRST PAGE"
   ]
  },
  {
   "cell_type": "code",
   "execution_count": 2,
   "id": "162814c0-8b45-4ba4-b413-b12c6e5e9adb",
   "metadata": {},
   "outputs": [],
   "source": []
  },
  {
   "cell_type": "code",
   "execution_count": 11,
   "id": "c1049a00-850a-4af6-81e7-6668f62ef26c",
   "metadata": {},
   "outputs": [],
   "source": [
    "#1. Load page boliga.dk\n",
    "links = []\n",
    "for page in range(1,147,1):\n",
    "    url_boliga = f'https://www.boliga.dk/resultat?propertyType=3&page={page}'\n",
    "    links.append(url_boliga)"
   ]
  },
  {
   "cell_type": "code",
   "execution_count": 14,
   "id": "608210f1-d143-47cf-8eab-0c9a1b158225",
   "metadata": {},
   "outputs": [
    {
     "name": "stderr",
     "output_type": "stream",
     "text": [
      "100%|██████████████████████████████████████████| 146/146 [04:44<00:00,  1.95s/it]\n"
     ]
    }
   ],
   "source": [
    "list_htmls = []\n",
    "for url_boliga in tqdm.tqdm(links): #Track the time left before completing the loop\n",
    "    response_boliga = requests.get(url_boliga, headers={'name':'Sevda Öztürk','email':'txg194b@alumni.ku.dk'})\n",
    "    html = response.text\n",
    "    list_htmls.append(html)\n",
    "    time.sleep(0.5) #Sleep for 0.5 seconds\n",
    "\n",
    "soup = BeautifulSoup(response_boliga.content,\"lxml\")\n",
    "\n",
    "#2. Scrape housing prices from www.boliga.dk\n",
    "list_price = soup.find_all(\"div\" ,class_ = \"price\")\n",
    "price = [col.text.split(u'\\xa0')[0] for col in list_price]"
   ]
  },
  {
   "cell_type": "markdown",
   "id": "de96618c-b851-43fb-b2c4-4544a197dca4",
   "metadata": {},
   "source": [
    "$\\bf{Data}$, address, zipcode from boliga.dk -  ONLY FOR FIRST PAGE"
   ]
  },
  {
   "cell_type": "code",
   "execution_count": 15,
   "id": "0e4473dc-df01-4518-90fb-b4ac9a8adde6",
   "metadata": {},
   "outputs": [],
   "source": [
    "#1. Scrape address from www.boliga.dk (first page)\n",
    "list_address = soup.find_all(\"div\" ,class_ = 'w-100 mt-1 listing-address font-weight-bold text-nowrap text-truncate')\n",
    "address = [col.text.split(',',1)[0] for col in list_address]\n",
    "\n",
    "#2. Scrape zipcode from www.boliga.dk (first page)\n",
    "list_zipcode = soup.find_all(\"div\" ,class_ = \"zip-color text-nowrap text-truncate\")\n",
    "zipcode = [col.text for col in list_zipcode]"
   ]
  },
  {
   "cell_type": "markdown",
   "id": "ad746a66-2314-443a-ad65-fb7ba05fd1ee",
   "metadata": {},
   "source": [
    "$\\textbf{Data}$, m2, rooms from boliga.dk -  ONLY FOR FIRST PAGE"
   ]
  },
  {
   "cell_type": "code",
   "execution_count": 20,
   "id": "08ebe181-a125-4c01-86ab-a3fb52ea3586",
   "metadata": {},
   "outputs": [],
   "source": [
    "#1. Scrape size of houses\n",
    "list_m2 = soup.find_all(\"span\" ,class_ = \"text-nowrap\")\n",
    "m2 = [col.text.split() for col in list_m2]\n",
    "\n",
    "#the variable m2 is a list of lists. The following code keeps the first element of every sublist to get rid of the string \"m2\"\n",
    "m2 = [element[0] for element in m2]\n",
    "\n",
    "del m2[0] #delete first element in m2 in order to get all m2 in next code\n",
    "m2 = m2[::6] #we now keep every 6th element, which is the size of every address\n",
    "\n",
    "#2. Scrape number of rooms and prepare\n",
    "list_rooms = soup.find_all(\"span\" ,class_ = \"text-nowrap\")\n",
    "rooms = [col.text.split() for col in list_rooms]\n",
    "rooms = rooms[::6]\n",
    "rooms = [element[1] for element in rooms]\n",
    "rooms\n",
    "\n",
    "for i in range(len(rooms)):\n",
    "    if rooms[i] == 'værelse':\n",
    "        rooms[i] = '1'"
   ]
  },
  {
   "cell_type": "markdown",
   "id": "5da513b7-55ec-45f8-a532-a67a121ae51d",
   "metadata": {},
   "source": [
    "$\\bf{Combine \\ data \\ in \\ one \\ dataset}$"
   ]
  },
  {
   "cell_type": "code",
   "execution_count": 21,
   "id": "8a43907a-2511-4977-9462-7dc231729a84",
   "metadata": {
    "tags": []
   },
   "outputs": [],
   "source": [
    "#1. Combine all scraped lists in one dataframe\n",
    "df_addzip = {\"Price\": price, \"Address\": address, \"Zipcode\": zipcode, \"m2\": m2, \"rooms\" : rooms}\n",
    "df_data = pd.DataFrame(df_addzip)\n",
    "#df_data"
   ]
  },
  {
   "cell_type": "markdown",
   "id": "43070769-3f77-4783-93cc-b4250c73757f",
   "metadata": {},
   "source": [
    "$\\bf{Use \\ combined \\ dataset \\ to \\ get \\ x,y \\ coordinates}$, distance to nearest (daycare eksempel) "
   ]
  },
  {
   "cell_type": "code",
   "execution_count": 22,
   "id": "d0a7ef7f-91f0-4098-8725-ce965afc8f13",
   "metadata": {},
   "outputs": [],
   "source": [
    "#1. Get longitude and latitude of each address in df_data[\"Address\"]\n",
    "z = []\n",
    "\n",
    "for a in df_data[\"Address\"]:    \n",
    "    response_dist = requests.get(f\"https://api.dataforsyningen.dk/adresser?q={a}&struktur=mini\",headers={'name':'Sevda Öztürk','email':'txg194@alumni.ku.dk'})\n",
    "    res_j = response_dist.json()\n",
    "    z.append(res_j)\n",
    "\n",
    "#2 Get longitude, x, and latitudes, y from address i\n",
    "length = list(range(len(z)))\n",
    "x = []\n",
    "y = []\n",
    "\n",
    "for i in length:\n",
    "    xx = z[i][0][\"x\"]\n",
    "    x.append(xx)\n",
    "    \n",
    "for i in length:\n",
    "    yy = z[i][0][\"y\"]\n",
    "    y.append(yy)"
   ]
  },
  {
   "cell_type": "code",
   "execution_count": 24,
   "id": "b1f09de6-a9de-4ecf-a554-240db1710561",
   "metadata": {},
   "outputs": [
    {
     "name": "stdout",
     "output_type": "stream",
     "text": [
      "         Price                Address           Zipcode   m2 rooms          x          y\n",
      "0      385.000            Smedegade 3     6430 Nordborg   97     3   9.922129  57.059276\n",
      "1      499.000        Solvangsvej 7A         9640 Farsø   89     4   9.345420  56.775994\n",
      "2      845.000        Solbakkevej 15   9230 Svenstrup J   91     5  11.568835  55.414591\n",
      "3      335.000              Elmevej 3       7600 Struer   51     2   8.306360  56.195721\n",
      "4      335.000              Elmevej 3       7600 Struer   51     2   8.306360  56.195721\n",
      "5    1.050.000          Gl Færgevej 5       7600 Struer   94     3   8.434670  55.471461\n",
      "6    2.900.000          Strandgade 12         9240 Nibe  178     3  10.528456  57.332983\n",
      "7      499.000            Skelvej 6B      8981 Spentrup   54     2  10.041683  56.537981\n",
      "8      645.000              Elmevej 6       7600 Struer  105     4   8.515213  55.903621\n",
      "9      195.000           Tranevej 108       9990 Skagen   74     2  11.214091  55.389319\n",
      "10     695.000             Nygade 19F    7200 Grindsted   60     2   8.926333  55.758965\n",
      "11   1.095.000       Hindebægervej 16         6792 Rømø   97     3   8.556041  55.086768\n",
      "12   1.495.000          Gulirisvej 16         6792 Rømø  112     4   8.552636  55.085848\n",
      "13     498.000        Gl. Ålborgvej 4         9300 Sæby   82     3   9.414007  56.456805\n",
      "14     600.000   Chr. Møllers Vej 6D        9990 Skagen   72     3  10.521159  57.728456\n",
      "15     390.000            Ringgade 82       7600 Struer   66     2   8.598062  56.486802\n",
      "16     595.000           Tranevej 108       9990 Skagen   74     3  11.214091  55.389319\n",
      "17     345.000    Fjelstervangvej 26A        6933 Kibæk   82     4   8.853226  56.039102\n",
      "18     625.000      Bøgelundsvej 79A       6920 Videbæk   80     2   8.624361  56.095112\n"
     ]
    }
   ],
   "source": [
    "#3. Add x and y to dataset df_data\n",
    "df_data[\"x\"], df_data[\"y\"] = x, y\n",
    "#df_data[\"yx\"] = df_data['y'] + ',' + df_data['x']\n",
    "print(df_data.to_string())"
   ]
  },
  {
   "cell_type": "markdown",
   "id": "aaab5f2f-666b-4be2-aea7-c2d096abfef6",
   "metadata": {},
   "source": [
    "$\\bf{Use \\ coordinates \\ to \\ get \\ distance}$"
   ]
  },
  {
   "cell_type": "code",
   "execution_count": 9,
   "id": "632b6311-7442-4528-95ff-d4becf001565",
   "metadata": {
    "tags": []
   },
   "outputs": [
    {
     "ename": "ValueError",
     "evalue": "too many values to unpack (expected 2)",
     "output_type": "error",
     "traceback": [
      "\u001b[0;31m---------------------------------------------------------------------------\u001b[0m",
      "\u001b[0;31mValueError\u001b[0m                                Traceback (most recent call last)",
      "Input \u001b[0;32mIn [9]\u001b[0m, in \u001b[0;36m<cell line: 2>\u001b[0;34m()\u001b[0m\n\u001b[1;32m      1\u001b[0m dist \u001b[38;5;241m=\u001b[39m []\n\u001b[0;32m----> 2\u001b[0m \u001b[38;5;28;01mfor\u001b[39;00m x,y \u001b[38;5;129;01min\u001b[39;00m df_data:\n\u001b[1;32m      3\u001b[0m     afstand_daycare_json \u001b[38;5;241m=\u001b[39m requests\u001b[38;5;241m.\u001b[39mget(\u001b[38;5;124mf\u001b[39m\u001b[38;5;124m'\u001b[39m\u001b[38;5;124mhttps://hvorlangterder.poi.viamap.net/v1/nearestpoi/?token=eyJkcGZ4IjogImh2b3JsYW5ndGVyZGVyIiwgInJlZiI6ICIyIiwgInBhciI6ICIiLCAicHJpdnMiOiAicjFaMHIwRjBrNkJ0V3FRY09VeWtCL3k2U1VwSnYyUWJneVhldHE0SFk0WE8vM1lyVzArSzl3PT0ifQ.2HJhvgEQPhJZuxuNZcR2y5jhmCn1IQpvqgr337BOI3e1ZzW1YmDVJDfELUKBTSXKNKlhq+1h+B5rO6rpLunNhw&fromlatlng=\u001b[39m\u001b[38;5;132;01m{\u001b[39;00mdf_data[\u001b[38;5;124m\"\u001b[39m\u001b[38;5;124my\u001b[39m\u001b[38;5;124m\"\u001b[39m]\u001b[38;5;132;01m}\u001b[39;00m\u001b[38;5;124m,\u001b[39m\u001b[38;5;132;01m{\u001b[39;00mdf_data[\u001b[38;5;124m\"\u001b[39m\u001b[38;5;124mx\u001b[39m\u001b[38;5;124m\"\u001b[39m]\u001b[38;5;132;01m}\u001b[39;00m\u001b[38;5;124m&poitypes=daycare&decodepolyline\u001b[39m\u001b[38;5;124m'\u001b[39m)\n\u001b[1;32m      4\u001b[0m     afstand_daycare_json\u001b[38;5;241m.\u001b[39mjson()\n",
      "\u001b[0;31mValueError\u001b[0m: too many values to unpack (expected 2)"
     ]
    }
   ],
   "source": [
    "dist = []\n",
    "for x,y in df_data:\n",
    "    afstand_daycare_json = requests.get(f'https://hvorlangterder.poi.viamap.net/v1/nearestpoi/?token=eyJkcGZ4IjogImh2b3JsYW5ndGVyZGVyIiwgInJlZiI6ICIyIiwgInBhciI6ICIiLCAicHJpdnMiOiAicjFaMHIwRjBrNkJ0V3FRY09VeWtCL3k2U1VwSnYyUWJneVhldHE0SFk0WE8vM1lyVzArSzl3PT0ifQ.2HJhvgEQPhJZuxuNZcR2y5jhmCn1IQpvqgr337BOI3e1ZzW1YmDVJDfELUKBTSXKNKlhq+1h+B5rO6rpLunNhw&fromlatlng={df_data[\"y\"]},{df_data[\"x\"]}&poitypes=daycare&decodepolyline')\n",
    "    afstand_daycare_json.json()\n"
   ]
  },
  {
   "cell_type": "code",
   "execution_count": null,
   "id": "d07f8612-f593-4caa-bfa3-c5dd0ce76d1a",
   "metadata": {},
   "outputs": [],
   "source": []
  },
  {
   "cell_type": "code",
   "execution_count": null,
   "id": "9705ec74-a837-4895-ad58-cba6c0935bde",
   "metadata": {},
   "outputs": [],
   "source": []
  },
  {
   "cell_type": "code",
   "execution_count": null,
   "id": "a19f2114-6566-4a83-9f80-44748b3a6277",
   "metadata": {},
   "outputs": [],
   "source": []
  },
  {
   "cell_type": "code",
   "execution_count": null,
   "id": "e5856d66-e388-4110-a460-3cf7600080b0",
   "metadata": {},
   "outputs": [],
   "source": []
  },
  {
   "cell_type": "code",
   "execution_count": null,
   "id": "15d9dbda-6e4c-4b71-94f2-b5dd19810620",
   "metadata": {},
   "outputs": [],
   "source": []
  }
 ],
 "metadata": {
  "kernelspec": {
   "display_name": "Python 3 (ipykernel)",
   "language": "python",
   "name": "python3"
  },
  "language_info": {
   "codemirror_mode": {
    "name": "ipython",
    "version": 3
   },
   "file_extension": ".py",
   "mimetype": "text/x-python",
   "name": "python",
   "nbconvert_exporter": "python",
   "pygments_lexer": "ipython3",
   "version": "3.9.12"
  }
 },
 "nbformat": 4,
 "nbformat_minor": 5
}
