{
 "cells": [
  {
   "cell_type": "markdown",
   "id": "679c5725-ed4e-40e0-9948-9431c33ff40a",
   "metadata": {},
   "source": [
    "$\\textbf{IMPORTS}$"
   ]
  },
  {
   "cell_type": "code",
   "execution_count": 22,
   "id": "384e0151-0c18-4c33-8ca4-63c1b054a975",
   "metadata": {},
   "outputs": [],
   "source": [
    "import requests\n",
    "import matplotlib.pyplot as plt\n",
    "import numpy as np\n",
    "import csv\n",
    "import json\n",
    "import time\n",
    "import tqdm\n",
    "import os\n",
    "import pprint\n",
    "import pandas as pd\n",
    "from pathlib import Path\n",
    "from bs4 import BeautifulSoup\n",
    "from sklearn.model_selection import train_test_split\n",
    "from sklearn.pipeline import make_pipeline\n",
    "from sklearn.preprocessing import PolynomialFeatures, StandardScaler\n",
    "from sklearn.model_selection import GridSearchCV\n",
    "from sklearn.linear_model import ElasticNet\n",
    "from sklearn.linear_model import Lasso, LinearRegression, Ridge\n",
    "from sklearn.metrics import mean_squared_error as mse\n",
    "from sklearn.model_selection import validation_curve\n",
    "from sklearn.pipeline import make_pipeline\n",
    "from sklearn.model_selection import cross_validate, KFold, cross_val_score\n",
    "\n"
   ]
  },
  {
   "cell_type": "markdown",
   "id": "46d05f42-ab40-442e-99d7-585c16364132",
   "metadata": {},
   "source": [
    "$\\textbf{LOAD ALL PAGES}$, BOLIGA.DK"
   ]
  },
  {
   "cell_type": "code",
   "execution_count": null,
   "id": "3e8e519a-f303-442a-bb47-60f3f2f91b06",
   "metadata": {},
   "outputs": [],
   "source": [
    "#1.Load pages boliga.dk\n",
    "links = []\n",
    "for page in range(1,146): #check the number of pages in link before running this code!!\n",
    "    url_boliga = f'https://www.boliga.dk/resultat?propertyType=3&page={page}&sort=daysForSale-a'\n",
    "    links.append(url_boliga)"
   ]
  },
  {
   "cell_type": "markdown",
   "id": "3814d708-9290-470f-ad48-b967cd515557",
   "metadata": {},
   "source": [
    "$\\textbf{LOGGING FUNCTION}$"
   ]
  },
  {
   "cell_type": "code",
   "execution_count": null,
   "id": "0156bcdb-8837-4fff-b8ba-aec90c446a95",
   "metadata": {},
   "outputs": [],
   "source": [
    "# Define the log function to gather the log information\n",
    "def log(response,logfile,output_path=os.getcwd()):\n",
    "    # Open or create the csv file\n",
    "    if os.path.isfile(logfile): #If the log file exists, open it and allow for changes     \n",
    "        log = open(logfile,'a')\n",
    "    else: #If the log file does not exist, create it and make headers for the log variables\n",
    "        log = open(logfile,'w')\n",
    "        header = ['timestamp','status_code','length','output_file']\n",
    "        log.write(';'.join(header) + \"\\n\") #Make the headers and jump to new line\n",
    "        \n",
    "    # Gather log information\n",
    "    status_code = response.status_code #Status code from the request result\n",
    "    timestamp = time.strftime('%Y-%m-%d %H:%M:%S', time.localtime(time.time())) #Local time\n",
    "    length = len(response.text) #Length of the HTML-string\n",
    "    \n",
    "    # Open the log file and append the gathered log information\n",
    "    with open(logfile,'a') as log:\n",
    "        log.write(f'{timestamp};{status_code};{length};{output_path}' + \"\\n\") #Append the information and jump to new line"
   ]
  },
  {
   "cell_type": "markdown",
   "id": "68e86a0c-e371-4386-b528-c19fd74aaf4e",
   "metadata": {},
   "source": [
    "$\\textbf{SCRAPE DATA FROM EACH PAGE}$, BOLIGA.DK"
   ]
  },
  {
   "cell_type": "code",
   "execution_count": null,
   "id": "64457de6-665c-4a19-8b15-8012d4c28fe2",
   "metadata": {},
   "outputs": [],
   "source": [
    "#1, Combinale all code above in a loop to scrape all pages\n",
    "add = []\n",
    "p = []\n",
    "zipc = []\n",
    "m_2 = []\n",
    "rooms_ = []\n",
    "\n",
    "log_boliga = 'log_boliga.csv'\n",
    "for i in links:\n",
    "    response = requests.get(i, headers={'name':'Sevda Öztürk','email':'txg194b@alumni.ku.dk', \"note\": \"I am a student extracting data from this webpage. If you have any problem or concern, email me.\"})\n",
    "    soup = BeautifulSoup(response.content,\"xml\")\n",
    "    \n",
    "    #append address to list\n",
    "    list_address = soup.find_all(\"div\" ,class_ = 'w-100 mt-1 listing-address font-weight-bold text-nowrap text-truncate')\n",
    "    address = [col.text.split(\",\",1)[0] for col in list_address]\n",
    "    add.append(address)\n",
    "    #convert list of lists to ONE LIST\n",
    "    address_final = []\n",
    "    for sublist in add:\n",
    "        for item in sublist:\n",
    "            address_final.append(item)\n",
    "    \n",
    "    #append price to list\n",
    "    list_price = soup.find_all(\"div\" , class_ =\"price m-0 d-flex align-items-center\")\n",
    "    price = [col.text.split(\"k\",1)[0] for col in list_price]\n",
    "    p.append(price)\n",
    "    #convert list of lists to ONE LIST\n",
    "    price_final = []\n",
    "    for sublist in p:\n",
    "        for item in sublist:\n",
    "            price_final.append(item)\n",
    "    \n",
    "    #append zipcode to list\n",
    "    list_zipcode = soup.find_all(\"div\" ,class_ = \"zip-color text-nowrap text-truncate\")\n",
    "    zipcode = [col.text for col in list_zipcode]\n",
    "    zipc.append(zipcode)\n",
    "     #convert list of lists to ONE LIST\n",
    "    zipcode_final = []\n",
    "    for sublist in zipc:\n",
    "        for item in sublist:\n",
    "            zipcode_final.append(item)\n",
    "    \n",
    "    #append m2 to list\n",
    "    list_m2 = soup.find_all(\"span\" ,class_ = \"text-nowrap\")\n",
    "    m2 = [col.text.split() for col in list_m2]\n",
    "    #the variable m2 is a list of lists. The following code keeps the first element of every sublist to get rid of the string \"m2\"\n",
    "    m2 = [element[0] for element in m2]\n",
    "    del m2[0] #delete first element in m2 in order to get all m2 in next code\n",
    "    m2 = m2[::6] #we now keep every 6th element, which is the size of every address\n",
    "    m_2.append(m2)\n",
    "    #convert list of lists to ONE LIST\n",
    "    m2_final = []\n",
    "    for sublist in m_2:\n",
    "        for item in sublist:\n",
    "            m2_final.append(item)\n",
    "    \n",
    "    #append room to list\n",
    "    rooms = [col.text.split() for col in list_m2]\n",
    "    rooms = [elements[1:] for elements in rooms]\n",
    "    rooms = rooms[::6] #we now keep every 6th element, which is no. of rooms\n",
    "    rooms_.append(rooms)\n",
    "    #convert list of lists to ONE LIST\n",
    "    rooms_fin = []\n",
    "    for sublist in rooms_:\n",
    "        for item in sublist:\n",
    "            rooms_fin.append(item)\n",
    "    rooms_final = []\n",
    "    for sublist in rooms_fin:\n",
    "        for item in sublist:\n",
    "            rooms_final.append(item)\n",
    "    #replace \"værelse\" with \"1\"\n",
    "    for i in range(len(rooms_final)):\n",
    "        if rooms_final[i] == \"værelse\":\n",
    "            rooms_final[i] = \"1\"\n",
    "    time.sleep(0.5) #Sleep for 0.5 seconds\n",
    "    log(response,log_boliga)"
   ]
  },
  {
   "cell_type": "markdown",
   "id": "d7ff18c8-e2ca-450f-a361-98c23482cc50",
   "metadata": {},
   "source": [
    "$\\textbf{COMBINE ALL CODE ABOVE INTO ONE DATAFRAME}$"
   ]
  },
  {
   "cell_type": "code",
   "execution_count": null,
   "id": "2a28284b-efd8-4e65-a4e2-089c017096aa",
   "metadata": {
    "tags": []
   },
   "outputs": [],
   "source": [
    "#1. Combine all scraped lists in one dataframe\n",
    "df_addzip = {\"Pris\": price_final, \"address\": address_final, \"zipcode\": zipcode_final, \"m2\": m2_final, \"rooms\": rooms_final}\n",
    "df_data = pd.DataFrame(df_addzip)\n",
    "\n",
    "#2. save dataset as v1\n",
    "df_data.to_csv(\"v1.csv\")\n",
    "df_data"
   ]
  },
  {
   "cell_type": "markdown",
   "id": "96b91763-6981-42d1-b70f-135ec9ee5fa4",
   "metadata": {},
   "source": [
    " "
   ]
  },
  {
   "cell_type": "markdown",
   "id": "c0409f1d-d141-4bb7-8641-4c996295b9c6",
   "metadata": {},
   "source": [
    "$\\textbf{GET  DISTANCES}, \\ dataforsyningen.dk, \\ hvorlangterder.dk$"
   ]
  },
  {
   "cell_type": "code",
   "execution_count": null,
   "id": "b0329f71-4e9c-4605-8531-57a9bc4f2451",
   "metadata": {
    "tags": []
   },
   "outputs": [],
   "source": [
    "## 1. Load pages\n",
    "Address_zipcode = df_data[\"address\"] + \" \" + df_data[\"zipcode\"]\n",
    "add_zip = []\n",
    "log_dataforsyning = 'log_dataforsyning.csv'\n",
    "for i in Address_zipcode:\n",
    "    response_dist = requests.get(f\"https://api.dataforsyningen.dk/adresser?q={i}&struktur=mini\", headers={'name':'Sevda Öztürk','email':'txg194b@alumni.ku.dk', \"note\": \"I am a student extracting data from this webpage. If you have any problem or concern, email me.\"})\n",
    "    res_j = response_dist.json()\n",
    "    add_zip.append(res_j)\n",
    "    time.sleep(0.5) #Sleep for 0.5 seconds\n",
    "    log(response_dist,log_dataforsyning)"
   ]
  },
  {
   "cell_type": "markdown",
   "id": "635e1d16-5a85-4f70-b560-ddce84a6c340",
   "metadata": {},
   "source": [
    "Before continuing, locate missing values due to typing error in column \"address\" in df_data"
   ]
  },
  {
   "cell_type": "code",
   "execution_count": null,
   "id": "d895dd41-c314-4094-8415-5c828538e67b",
   "metadata": {
    "tags": []
   },
   "outputs": [],
   "source": [
    "#2. Locate missing values\n",
    "df_add_zip = pd.DataFrame(add_zip)\n",
    "index = df_add_zip[df_add_zip[0].isnull()][0]\n",
    "\n",
    "#3. Store index numbers in order to del the corresponding indexes in df_data\n",
    "index_list = list(index.index.values)\n",
    "\n",
    "#4. Delete corresponding rows in df_data\n",
    "for i in index_list:\n",
    "    df_add_zip.drop(i, inplace=True)\n",
    "\n",
    "#5. reset_index keeps failing, so here comes another index-method    \n",
    "df_add_zip[\"new_index\"] = range(len(df_add_zip))\n",
    "df_add_zip.set_index(\"new_index\", inplace=True)"
   ]
  },
  {
   "cell_type": "markdown",
   "id": "319e39ff-ac2e-4e44-b6de-55ae5f7f3c57",
   "metadata": {},
   "source": [
    "Drop missing values in df_data"
   ]
  },
  {
   "cell_type": "code",
   "execution_count": null,
   "id": "ba78e8a2-9240-4ffd-9f70-9e50b2ac42c6",
   "metadata": {
    "tags": []
   },
   "outputs": [],
   "source": [
    "#6. Delete corresponding rows in df_data\n",
    "for i in index_list:\n",
    "    df_data.drop(i, inplace=True)\n",
    "\n",
    "#reset_index keeps failing, so here comes another index-method    \n",
    "df_data[\"new_index\"] = range(len(df_data))\n",
    "df_data.set_index(\"new_index\", inplace=True)"
   ]
  },
  {
   "cell_type": "code",
   "execution_count": null,
   "id": "7b661fb4-dbb6-4525-80ea-50e66e326b4b",
   "metadata": {},
   "outputs": [],
   "source": [
    "#7. save dataset with dropped missing values as v2\n",
    "df_data.to_csv(\"v2.csv\")\n",
    "df_data\n",
    "#Vi mister 151 observationer efter fjernelse af ovenstående obs"
   ]
  },
  {
   "cell_type": "code",
   "execution_count": null,
   "id": "bd1a0a64-7f2b-4fe7-b42e-1eeeb78dd554",
   "metadata": {
    "tags": []
   },
   "outputs": [],
   "source": [
    "#8. Get longitude, x, and latitudes, y from address i\n",
    "x = []\n",
    "y = []\n",
    "\n",
    "for i in range(len(df_add_zip)):\n",
    "    xx = df_add_zip[0][i][\"x\"]\n",
    "    x.append(xx)\n",
    "\n",
    "for i in range(len(df_add_zip)):\n",
    "    yy = df_add_zip[0][i][\"y\"]\n",
    "    y.append(yy)"
   ]
  },
  {
   "cell_type": "code",
   "execution_count": null,
   "id": "6d73374a-804f-415c-9d38-7cab3fab5ddc",
   "metadata": {},
   "outputs": [],
   "source": [
    "#9. Add coordinates to df_data\n",
    "df_data[\"x\"] = x\n",
    "df_data[\"y\"] = y\n",
    "xy = df_data[\"y\"].apply(str) +\",\"+ df_data[\"x\"].apply(str)"
   ]
  },
  {
   "cell_type": "code",
   "execution_count": null,
   "id": "65d2eeeb-511a-412f-8190-6654a2fb1076",
   "metadata": {
    "tags": []
   },
   "outputs": [],
   "source": [
    "#10 Get distance to nearest x\n",
    "daycare_distance = []\n",
    "log_dist = 'log_dist'\n",
    "for i in tqdm.tqdm(xy):\n",
    "    afstand_daycare_json = requests.get(f'https://hvorlangterder.poi.viamap.net/v1/nearestpoi/?token=eyJkcGZ4IjogImh2b3JsYW5ndGVyZGVyIiwgInJlZiI6ICIyIiwgInBhciI6ICIiLCAicHJpdnMiOiAicjFaMHIwRjBrNkJ0V3FRY09VeWtCL3k2U1VwSnYyUWJneVhldHE0SFk0WE8vM1lyVzArSzl3PT0ifQ.2HJhvgEQPhJZuxuNZcR2y5jhmCn1IQpvqgr337BOI3e1ZzW1YmDVJDfELUKBTSXKNKlhq+1h+B5rO6rpLunNhw&fromlatlng={i}&poitypes=daycare&decodepolyline',headers={'name':'Sevda Öztürk','email':'txg194b@alumni.ku.dk', \"note\": \"I am a student extracting data from this webpage. If you have any problem or concern, email me.\"})\n",
    "    afstand_daycare_json.json()\n",
    "    key = afstand_daycare_json.json()['daycare']\n",
    "    key = key['routedmeters']\n",
    "    daycare_distance.append(key)\n",
    "    time.sleep(0.5) #Sleep for 0.5 seconds\n",
    "    log(afstand_daycare_json,log_dist)"
   ]
  },
  {
   "cell_type": "code",
   "execution_count": null,
   "id": "bc2973e2",
   "metadata": {},
   "outputs": [],
   "source": [
    "regionaltog_distance = []\n",
    "\n",
    "for i in tqdm.tqdm(xy):\n",
    "    afstand_regionaltog_json = requests.get(f'https://hvorlangterder.poi.viamap.net/v1/nearestpoi/?token=eyJkcGZ4IjogImh2b3JsYW5ndGVyZGVyIiwgInJlZiI6ICIyIiwgInBhciI6ICIiLCAicHJpdnMiOiAicjFaMHIwRjBrNkJ0V3FRY09VeWtCL3k2U1VwSnYyUWJneVhldHE0SFk0WE8vM1lyVzArSzl3PT0ifQ.2HJhvgEQPhJZuxuNZcR2y5jhmCn1IQpvqgr337BOI3e1ZzW1YmDVJDfELUKBTSXKNKlhq+1h+B5rO6rpLunNhw&fromlatlng={i}&poitypes=train&decodepolyline', headers={'name':'Sevda Öztürk','email':'txg194b@alumni.ku.dk', \"note\": \"I am a student extracting data from this webpage. If you have any problem or concern, email me.\"})\n",
    "    afstand_regionaltog_json.json()\n",
    "    key = afstand_regionaltog_json.json()['train']\n",
    "    key = key['routedmeters']\n",
    "    regionaltog_distance.append(key)\n",
    "    time.sleep(0.5) #Sleep for 0.5 seconds"
   ]
  },
  {
   "cell_type": "code",
   "execution_count": null,
   "id": "2926b83f",
   "metadata": {},
   "outputs": [],
   "source": [
    "school_distance = []\n",
    "\n",
    "for i in tqdm.tqdm(xy):\n",
    "    afstand_school_json = requests.get(f'https://hvorlangterder.poi.viamap.net/v1/nearestpoi/?token=eyJkcGZ4IjogImh2b3JsYW5ndGVyZGVyIiwgInJlZiI6ICIyIiwgInBhciI6ICIiLCAicHJpdnMiOiAicjFaMHIwRjBrNkJ0V3FRY09VeWtCL3k2U1VwSnYyUWJneVhldHE0SFk0WE8vM1lyVzArSzl3PT0ifQ.2HJhvgEQPhJZuxuNZcR2y5jhmCn1IQpvqgr337BOI3e1ZzW1YmDVJDfELUKBTSXKNKlhq+1h+B5rO6rpLunNhw&fromlatlng={i}&poitypes=school&decodepolyline',headers={'name':'Sevda Öztürk','email':'txg194b@alumni.ku.dk', \"note\": \"I am a student extracting data from this webpage. If you have any problem or concern, email me.\"})\n",
    "    afstand_school_json.json()\n",
    "    key = afstand_school_json.json()['school']\n",
    "    key = key['routedmeters']\n",
    "    school_distance.append(key)\n",
    "    time.sleep(0.5) #Sleep for 0.5 seconds"
   ]
  },
  {
   "cell_type": "code",
   "execution_count": null,
   "id": "01828a44-6e28-4ed9-a006-86b43a6071df",
   "metadata": {},
   "outputs": [],
   "source": [
    "supermarket_distance = []\n",
    "\n",
    "for i in tqdm.tqdm(xy):\n",
    "    afstand_supermarket_json = requests.get(f'https://hvorlangterder.poi.viamap.net/v1/nearestpoi/?token=eyJkcGZ4IjogImh2b3JsYW5ndGVyZGVyIiwgInJlZiI6ICIyIiwgInBhciI6ICIiLCAicHJpdnMiOiAicjFaMHIwRjBrNkJ0V3FRY09VeWtCL3k2U1VwSnYyUWJneVhldHE0SFk0WE8vM1lyVzArSzl3PT0ifQ.2HJhvgEQPhJZuxuNZcR2y5jhmCn1IQpvqgr337BOI3e1ZzW1YmDVJDfELUKBTSXKNKlhq+1h+B5rO6rpLunNhw&fromlatlng={i}&poitypes=supermarket&decodepolyline',headers={'name':'Sevda Öztürk','email':'txg194b@alumni.ku.dk', \"note\": \"I am a student extracting data from this webpage. If you have any problem or concern, email me.\"})\n",
    "    afstand_supermarket_json.json()\n",
    "    key = afstand_supermarket_json.json()['supermarket']\n",
    "    key = key['routedmeters']\n",
    "    supermarket_distance.append(key)\n",
    "    time.sleep(0.5) #Sleep for 0.5 seconds"
   ]
  },
  {
   "cell_type": "code",
   "execution_count": null,
   "id": "c57466bf",
   "metadata": {},
   "outputs": [],
   "source": [
    "hospital_distance = []\n",
    "\n",
    "for i in tqdm.tqdm(xy):\n",
    "    hospital_distance_json = requests.get(f'https://hvorlangterder.poi.viamap.net/v1/nearestpoi/?token=eyJkcGZ4IjogImh2b3JsYW5ndGVyZGVyIiwgInJlZiI6ICIyIiwgInBhciI6ICIiLCAicHJpdnMiOiAicjFaMHIwRjBrNkJ0V3FRY09VeWtCL3k2U1VwSnYyUWJneVhldHE0SFk0WE8vM1lyVzArSzl3PT0ifQ.2HJhvgEQPhJZuxuNZcR2y5jhmCn1IQpvqgr337BOI3e1ZzW1YmDVJDfELUKBTSXKNKlhq+1h+B5rO6rpLunNhw&fromlatlng={i}&poitypes=hospital&decodepolyline',headers={'name':'Sevda Öztürk','email':'txg194b@alumni.ku.dk', \"note\": \"I am a student extracting data from this webpage. If you have any problem or concern, email me.\"})\n",
    "    hospital_distance_json.json()\n",
    "    key = hospital_distance_json.json()['hospital']\n",
    "    key = key['routedmeters']\n",
    "    hospital_distance.append(key)\n",
    "    time.sleep(0.5) #Sleep for 0.5 seconds"
   ]
  },
  {
   "cell_type": "code",
   "execution_count": null,
   "id": "2ef08b4b-2bc3-48b1-96db-c05971bd1ea0",
   "metadata": {},
   "outputs": [],
   "source": [
    "#4 Add coordinates of addresses in dataframe\n",
    "df_data[\"daycare_distance\"] = daycare_distance\n",
    "df_data[\"train_distance\"] = regionaltog_distance\n",
    "df_data[\"school_distance\"] = school_distance\n",
    "df_data[\"supermarket_distance\"] = supermarket_distance\n",
    "df_data[\"hospital_distance\"] = hospital_distance"
   ]
  },
  {
   "cell_type": "code",
   "execution_count": null,
   "id": "ef639620-4d5e-4600-872b-3a29b139dc50",
   "metadata": {},
   "outputs": [],
   "source": [
    "#11. save dataset with distances\n",
    "df_data.to_csv(\"v3.csv\")\n",
    "df_data"
   ]
  },
  {
   "cell_type": "markdown",
   "id": "a42e30d0-a618-4dcf-bc6a-f9880b850d9a",
   "metadata": {},
   "source": [
    "$\\textbf{CONSTRUCT A VARIABEL FOR REGION}$"
   ]
  },
  {
   "cell_type": "code",
   "execution_count": null,
   "id": "b083bfb9-814e-4cef-8830-7470529d92fc",
   "metadata": {},
   "outputs": [],
   "source": [
    "#1. Load API\n",
    "response_reg = requests.get(f\"https://api.dataforsyningen.dk/regioner\", headers={'name':'Sevda Öztürk','email':'txg194b@alumni.ku.dk', \"note\": \"I am a student extracting data from this webpage. If you have any problem or concern, email me.\"})\n",
    "res_reg = response_reg.json()"
   ]
  },
  {
   "cell_type": "code",
   "execution_count": null,
   "id": "6e8d0a20-6cbf-4c1f-aebe-ce3b58bc2062",
   "metadata": {
    "tags": []
   },
   "outputs": [],
   "source": [
    "#2. Get the coordinate intervals for each region\n",
    "regions = []\n",
    "\n",
    "for i in range(0,5):\n",
    "    rg = res_reg[i][\"bbox\"]\n",
    "    regions.append(rg)\n",
    "regions"
   ]
  },
  {
   "cell_type": "code",
   "execution_count": null,
   "id": "6f323c80-ec71-4044-8291-19896a473736",
   "metadata": {},
   "outputs": [],
   "source": [
    "#3. Use the coordinate intervals above to place each observation in a region\n",
    "def region(df_data):\n",
    "    \n",
    "    if (8.18951662 < df_data['x'] < 11.22599137) and (56.53454667 < df_data['y'] < 57.76025478):  \n",
    "        return 'Nordjylland'\n",
    "    elif (8.07887623 <  df_data['x'] < 11.66419061) and (55.64437916 < df_data['y'] < 56.84325702): \n",
    "        return 'Midtjylland'\n",
    "    elif (8.06320315 < df_data['x'] < 10.99555236) and (54.71828064 < df_data['y'] < 55.95324986):  \n",
    "        return 'Syddanmark'\n",
    "    elif (11.60211644 < df_data['x'] < 15.31831444) and (54.98354657 < df_data['y'] < 56.20520188):  \n",
    "        return 'Hovedstaden'\n",
    "    elif (10.8148054 < df_data['x'] < 12.64551576) and (54.54440636 < df_data['y'] < 56.0173058):  \n",
    "        return 'Sjælland'\n",
    "df_data['Region'] = df_data.apply(region, axis=1)\n",
    "#display(df_data)"
   ]
  },
  {
   "cell_type": "code",
   "execution_count": null,
   "id": "d9339b0b-b382-4327-a5ae-f71a5a6ac8be",
   "metadata": {},
   "outputs": [],
   "source": [
    "#4. save dataset including regions\n",
    "df_data.to_csv(\"v4.csv\")\n",
    "df_data"
   ]
  },
  {
   "cell_type": "markdown",
   "id": "2ca48f58-20e4-489e-bdc6-bf5f076b51cf",
   "metadata": {},
   "source": [
    "$\\textbf{CLEAN DATASET}$"
   ]
  },
  {
   "cell_type": "code",
   "execution_count": null,
   "id": "84574e4a-4fd4-402f-ab86-63357195fa67",
   "metadata": {},
   "outputs": [],
   "source": [
    "#Clean dataset and save as v5\n",
    "\n",
    "df_data = df_data.drop_duplicates().reset_index()\n",
    "del df_data[\"new_index\"]\n",
    "\n",
    "df_data.Pris = df_data.Pris.astype(str)\n",
    "df_data.Pris = df_data.Pris.str.replace('.', '', regex=True)\n",
    "\n",
    "df_data[\"Pris\"] = df_data[\"Pris\"].apply(pd.to_numeric, errors='coerce')\n",
    "\n",
    "df_data.to_csv(\"v5.csv\")"
   ]
  },
  {
   "cell_type": "code",
   "execution_count": 2,
   "id": "4b418a24-9647-49a3-910a-5700abc11a76",
   "metadata": {},
   "outputs": [],
   "source": [
    "df_data = pd.read_csv('v5.csv', index_col=[0])"
   ]
  },
  {
   "cell_type": "code",
   "execution_count": 3,
   "id": "82b8b783-c619-4e3d-902a-1ce37431ad7e",
   "metadata": {},
   "outputs": [
    {
     "data": {
      "text/html": [
       "<div>\n",
       "<style scoped>\n",
       "    .dataframe tbody tr th:only-of-type {\n",
       "        vertical-align: middle;\n",
       "    }\n",
       "\n",
       "    .dataframe tbody tr th {\n",
       "        vertical-align: top;\n",
       "    }\n",
       "\n",
       "    .dataframe thead th {\n",
       "        text-align: right;\n",
       "    }\n",
       "</style>\n",
       "<table border=\"1\" class=\"dataframe\">\n",
       "  <thead>\n",
       "    <tr style=\"text-align: right;\">\n",
       "      <th></th>\n",
       "      <th>Pris</th>\n",
       "      <th>address</th>\n",
       "      <th>zipcode</th>\n",
       "      <th>m2</th>\n",
       "      <th>rooms</th>\n",
       "      <th>x</th>\n",
       "      <th>y</th>\n",
       "      <th>daycare_distance</th>\n",
       "      <th>train_distance</th>\n",
       "      <th>school_distance</th>\n",
       "      <th>supermarket_distance</th>\n",
       "      <th>hospital_distance</th>\n",
       "      <th>Region_Hovedstaden</th>\n",
       "      <th>Region_Midtjylland</th>\n",
       "      <th>Region_Nordjylland</th>\n",
       "      <th>Region_Sjælland</th>\n",
       "      <th>Region_Syddanmark</th>\n",
       "    </tr>\n",
       "  </thead>\n",
       "  <tbody>\n",
       "    <tr>\n",
       "      <th>0</th>\n",
       "      <td>20.775552</td>\n",
       "      <td>Kvintus Allé 3</td>\n",
       "      <td>2300 København S</td>\n",
       "      <td>38</td>\n",
       "      <td>1</td>\n",
       "      <td>12.619615</td>\n",
       "      <td>55.660817</td>\n",
       "      <td>371.50</td>\n",
       "      <td>4240.07</td>\n",
       "      <td>643.80</td>\n",
       "      <td>226.93</td>\n",
       "      <td>847.41</td>\n",
       "      <td>1</td>\n",
       "      <td>0</td>\n",
       "      <td>0</td>\n",
       "      <td>0</td>\n",
       "      <td>0</td>\n",
       "    </tr>\n",
       "    <tr>\n",
       "      <th>1</th>\n",
       "      <td>21.307303</td>\n",
       "      <td>Skelhøjvej 9</td>\n",
       "      <td>2800 Kongens Lyngby</td>\n",
       "      <td>67</td>\n",
       "      <td>3</td>\n",
       "      <td>12.482367</td>\n",
       "      <td>55.763944</td>\n",
       "      <td>456.10</td>\n",
       "      <td>2358.62</td>\n",
       "      <td>831.28</td>\n",
       "      <td>581.67</td>\n",
       "      <td>6374.42</td>\n",
       "      <td>1</td>\n",
       "      <td>0</td>\n",
       "      <td>0</td>\n",
       "      <td>0</td>\n",
       "      <td>0</td>\n",
       "    </tr>\n",
       "    <tr>\n",
       "      <th>2</th>\n",
       "      <td>21.777560</td>\n",
       "      <td>Herninggade 5</td>\n",
       "      <td>2100 København Ø</td>\n",
       "      <td>64</td>\n",
       "      <td>0</td>\n",
       "      <td>12.588390</td>\n",
       "      <td>55.707378</td>\n",
       "      <td>288.63</td>\n",
       "      <td>2095.23</td>\n",
       "      <td>638.95</td>\n",
       "      <td>263.23</td>\n",
       "      <td>2556.49</td>\n",
       "      <td>1</td>\n",
       "      <td>0</td>\n",
       "      <td>0</td>\n",
       "      <td>0</td>\n",
       "      <td>0</td>\n",
       "    </tr>\n",
       "    <tr>\n",
       "      <th>3</th>\n",
       "      <td>21.818314</td>\n",
       "      <td>Vestre Ringgade 226</td>\n",
       "      <td>8000 Aarhus C</td>\n",
       "      <td>100</td>\n",
       "      <td>3</td>\n",
       "      <td>10.196700</td>\n",
       "      <td>56.169798</td>\n",
       "      <td>471.54</td>\n",
       "      <td>2625.79</td>\n",
       "      <td>704.16</td>\n",
       "      <td>1028.13</td>\n",
       "      <td>4453.36</td>\n",
       "      <td>0</td>\n",
       "      <td>1</td>\n",
       "      <td>0</td>\n",
       "      <td>0</td>\n",
       "      <td>0</td>\n",
       "    </tr>\n",
       "    <tr>\n",
       "      <th>4</th>\n",
       "      <td>21.929764</td>\n",
       "      <td>Digevej 38</td>\n",
       "      <td>2300 København S</td>\n",
       "      <td>87</td>\n",
       "      <td>3</td>\n",
       "      <td>12.587169</td>\n",
       "      <td>55.647657</td>\n",
       "      <td>431.08</td>\n",
       "      <td>2318.79</td>\n",
       "      <td>679.94</td>\n",
       "      <td>1069.28</td>\n",
       "      <td>2960.85</td>\n",
       "      <td>1</td>\n",
       "      <td>0</td>\n",
       "      <td>0</td>\n",
       "      <td>0</td>\n",
       "      <td>0</td>\n",
       "    </tr>\n",
       "    <tr>\n",
       "      <th>...</th>\n",
       "      <td>...</td>\n",
       "      <td>...</td>\n",
       "      <td>...</td>\n",
       "      <td>...</td>\n",
       "      <td>...</td>\n",
       "      <td>...</td>\n",
       "      <td>...</td>\n",
       "      <td>...</td>\n",
       "      <td>...</td>\n",
       "      <td>...</td>\n",
       "      <td>...</td>\n",
       "      <td>...</td>\n",
       "      <td>...</td>\n",
       "      <td>...</td>\n",
       "      <td>...</td>\n",
       "      <td>...</td>\n",
       "      <td>...</td>\n",
       "    </tr>\n",
       "    <tr>\n",
       "      <th>6938</th>\n",
       "      <td>19.995072</td>\n",
       "      <td>Vesterbrogade 15B</td>\n",
       "      <td>6000 Kolding</td>\n",
       "      <td>38</td>\n",
       "      <td>1</td>\n",
       "      <td>9.468156</td>\n",
       "      <td>55.489879</td>\n",
       "      <td>481.06</td>\n",
       "      <td>2429.74</td>\n",
       "      <td>66.16</td>\n",
       "      <td>404.60</td>\n",
       "      <td>2624.88</td>\n",
       "      <td>0</td>\n",
       "      <td>0</td>\n",
       "      <td>0</td>\n",
       "      <td>0</td>\n",
       "      <td>1</td>\n",
       "    </tr>\n",
       "    <tr>\n",
       "      <th>6939</th>\n",
       "      <td>20.609640</td>\n",
       "      <td>Skiftesporet 7</td>\n",
       "      <td>8930 Randers NØ</td>\n",
       "      <td>68</td>\n",
       "      <td>2</td>\n",
       "      <td>10.064362</td>\n",
       "      <td>56.469382</td>\n",
       "      <td>569.88</td>\n",
       "      <td>3445.72</td>\n",
       "      <td>742.10</td>\n",
       "      <td>476.70</td>\n",
       "      <td>1699.02</td>\n",
       "      <td>0</td>\n",
       "      <td>1</td>\n",
       "      <td>0</td>\n",
       "      <td>0</td>\n",
       "      <td>0</td>\n",
       "    </tr>\n",
       "    <tr>\n",
       "      <th>6940</th>\n",
       "      <td>22.885765</td>\n",
       "      <td>Weidekampsgade 65</td>\n",
       "      <td>2300 København S</td>\n",
       "      <td>152</td>\n",
       "      <td>4</td>\n",
       "      <td>12.580813</td>\n",
       "      <td>55.667745</td>\n",
       "      <td>264.35</td>\n",
       "      <td>1851.89</td>\n",
       "      <td>804.97</td>\n",
       "      <td>333.11</td>\n",
       "      <td>4025.06</td>\n",
       "      <td>1</td>\n",
       "      <td>0</td>\n",
       "      <td>0</td>\n",
       "      <td>0</td>\n",
       "      <td>0</td>\n",
       "    </tr>\n",
       "    <tr>\n",
       "      <th>6941</th>\n",
       "      <td>23.289121</td>\n",
       "      <td>Franciska Clausens Plads 20</td>\n",
       "      <td>1799 København V</td>\n",
       "      <td>175</td>\n",
       "      <td>3</td>\n",
       "      <td>12.534592</td>\n",
       "      <td>55.665601</td>\n",
       "      <td>293.46</td>\n",
       "      <td>1650.66</td>\n",
       "      <td>492.63</td>\n",
       "      <td>279.92</td>\n",
       "      <td>3237.71</td>\n",
       "      <td>1</td>\n",
       "      <td>0</td>\n",
       "      <td>0</td>\n",
       "      <td>0</td>\n",
       "      <td>0</td>\n",
       "    </tr>\n",
       "    <tr>\n",
       "      <th>6942</th>\n",
       "      <td>19.600595</td>\n",
       "      <td>Arvidvej 192B</td>\n",
       "      <td>6960 Hvide Sande</td>\n",
       "      <td>73</td>\n",
       "      <td>3</td>\n",
       "      <td>8.174820</td>\n",
       "      <td>55.849587</td>\n",
       "      <td>13414.86</td>\n",
       "      <td>12822.53</td>\n",
       "      <td>12985.61</td>\n",
       "      <td>4784.36</td>\n",
       "      <td>31857.44</td>\n",
       "      <td>0</td>\n",
       "      <td>1</td>\n",
       "      <td>0</td>\n",
       "      <td>0</td>\n",
       "      <td>0</td>\n",
       "    </tr>\n",
       "  </tbody>\n",
       "</table>\n",
       "<p>6943 rows × 17 columns</p>\n",
       "</div>"
      ],
      "text/plain": [
       "           Pris                       address              zipcode   m2  \\\n",
       "0     20.775552                Kvintus Allé 3     2300 København S   38   \n",
       "1     21.307303                  Skelhøjvej 9  2800 Kongens Lyngby   67   \n",
       "2     21.777560                 Herninggade 5     2100 København Ø   64   \n",
       "3     21.818314           Vestre Ringgade 226        8000 Aarhus C  100   \n",
       "4     21.929764                    Digevej 38     2300 København S   87   \n",
       "...         ...                           ...                  ...  ...   \n",
       "6938  19.995072            Vesterbrogade 15B          6000 Kolding   38   \n",
       "6939  20.609640                Skiftesporet 7      8930 Randers NØ   68   \n",
       "6940  22.885765             Weidekampsgade 65     2300 København S  152   \n",
       "6941  23.289121   Franciska Clausens Plads 20     1799 København V  175   \n",
       "6942  19.600595                 Arvidvej 192B     6960 Hvide Sande   73   \n",
       "\n",
       "      rooms          x          y  daycare_distance  train_distance  \\\n",
       "0         1  12.619615  55.660817            371.50         4240.07   \n",
       "1         3  12.482367  55.763944            456.10         2358.62   \n",
       "2         0  12.588390  55.707378            288.63         2095.23   \n",
       "3         3  10.196700  56.169798            471.54         2625.79   \n",
       "4         3  12.587169  55.647657            431.08         2318.79   \n",
       "...     ...        ...        ...               ...             ...   \n",
       "6938      1   9.468156  55.489879            481.06         2429.74   \n",
       "6939      2  10.064362  56.469382            569.88         3445.72   \n",
       "6940      4  12.580813  55.667745            264.35         1851.89   \n",
       "6941      3  12.534592  55.665601            293.46         1650.66   \n",
       "6942      3   8.174820  55.849587          13414.86        12822.53   \n",
       "\n",
       "      school_distance  supermarket_distance  hospital_distance  \\\n",
       "0              643.80                226.93             847.41   \n",
       "1              831.28                581.67            6374.42   \n",
       "2              638.95                263.23            2556.49   \n",
       "3              704.16               1028.13            4453.36   \n",
       "4              679.94               1069.28            2960.85   \n",
       "...               ...                   ...                ...   \n",
       "6938            66.16                404.60            2624.88   \n",
       "6939           742.10                476.70            1699.02   \n",
       "6940           804.97                333.11            4025.06   \n",
       "6941           492.63                279.92            3237.71   \n",
       "6942         12985.61               4784.36           31857.44   \n",
       "\n",
       "      Region_Hovedstaden  Region_Midtjylland  Region_Nordjylland  \\\n",
       "0                      1                   0                   0   \n",
       "1                      1                   0                   0   \n",
       "2                      1                   0                   0   \n",
       "3                      0                   1                   0   \n",
       "4                      1                   0                   0   \n",
       "...                  ...                 ...                 ...   \n",
       "6938                   0                   0                   0   \n",
       "6939                   0                   1                   0   \n",
       "6940                   1                   0                   0   \n",
       "6941                   1                   0                   0   \n",
       "6942                   0                   1                   0   \n",
       "\n",
       "      Region_Sjælland  Region_Syddanmark  \n",
       "0                   0                  0  \n",
       "1                   0                  0  \n",
       "2                   0                  0  \n",
       "3                   0                  0  \n",
       "4                   0                  0  \n",
       "...               ...                ...  \n",
       "6938                0                  1  \n",
       "6939                0                  0  \n",
       "6940                0                  0  \n",
       "6941                0                  0  \n",
       "6942                0                  0  \n",
       "\n",
       "[6943 rows x 17 columns]"
      ]
     },
     "execution_count": 3,
     "metadata": {},
     "output_type": "execute_result"
    }
   ],
   "source": [
    "df_data = pd.get_dummies(df_data, columns=['Region'])\n",
    "\n",
    "df_data['Pris'] = np.log2(df_data['Pris'])\n",
    "df_data"
   ]
  },
  {
   "cell_type": "code",
   "execution_count": 4,
   "id": "97df946c-c2c3-478f-b89d-94a8712f76d7",
   "metadata": {},
   "outputs": [],
   "source": [
    "y = df_data.Pris.to_numpy()\n",
    "X = df_data.drop(['Pris','rooms', 'hospital_distance', 'train_distance', 'address' , 'zipcode', 'x','y'], axis=1).to_numpy()\n",
    "X = np.array(X, dtype=np.float64)\n",
    "X, y;"
   ]
  },
  {
   "cell_type": "code",
   "execution_count": 5,
   "id": "0633a5a6-ac93-48ae-8a9d-e9c5db480d4b",
   "metadata": {},
   "outputs": [
    {
     "data": {
      "text/html": [
       "<div>\n",
       "<style scoped>\n",
       "    .dataframe tbody tr th:only-of-type {\n",
       "        vertical-align: middle;\n",
       "    }\n",
       "\n",
       "    .dataframe tbody tr th {\n",
       "        vertical-align: top;\n",
       "    }\n",
       "\n",
       "    .dataframe thead th {\n",
       "        text-align: right;\n",
       "    }\n",
       "</style>\n",
       "<table border=\"1\" class=\"dataframe\">\n",
       "  <thead>\n",
       "    <tr style=\"text-align: right;\">\n",
       "      <th></th>\n",
       "      <th>test</th>\n",
       "      <th>validation</th>\n",
       "    </tr>\n",
       "  </thead>\n",
       "  <tbody>\n",
       "    <tr>\n",
       "      <th>count</th>\n",
       "      <td>10.000000</td>\n",
       "      <td>10.000000</td>\n",
       "    </tr>\n",
       "    <tr>\n",
       "      <th>mean</th>\n",
       "      <td>0.656534</td>\n",
       "      <td>0.649035</td>\n",
       "    </tr>\n",
       "    <tr>\n",
       "      <th>std</th>\n",
       "      <td>0.016584</td>\n",
       "      <td>0.015048</td>\n",
       "    </tr>\n",
       "    <tr>\n",
       "      <th>min</th>\n",
       "      <td>0.630686</td>\n",
       "      <td>0.619201</td>\n",
       "    </tr>\n",
       "    <tr>\n",
       "      <th>25%</th>\n",
       "      <td>0.646221</td>\n",
       "      <td>0.639965</td>\n",
       "    </tr>\n",
       "    <tr>\n",
       "      <th>50%</th>\n",
       "      <td>0.655065</td>\n",
       "      <td>0.652188</td>\n",
       "    </tr>\n",
       "    <tr>\n",
       "      <th>75%</th>\n",
       "      <td>0.664883</td>\n",
       "      <td>0.653829</td>\n",
       "    </tr>\n",
       "    <tr>\n",
       "      <th>max</th>\n",
       "      <td>0.687953</td>\n",
       "      <td>0.670346</td>\n",
       "    </tr>\n",
       "  </tbody>\n",
       "</table>\n",
       "</div>"
      ],
      "text/plain": [
       "            test  validation\n",
       "count  10.000000   10.000000\n",
       "mean    0.656534    0.649035\n",
       "std     0.016584    0.015048\n",
       "min     0.630686    0.619201\n",
       "25%     0.646221    0.639965\n",
       "50%     0.655065    0.652188\n",
       "75%     0.664883    0.653829\n",
       "max     0.687953    0.670346"
      ]
     },
     "execution_count": 5,
     "metadata": {},
     "output_type": "execute_result"
    }
   ],
   "source": [
    "def rmse(y_pred, y_true):\n",
    "    return np.sqrt(mse(y_pred, y_true))\n",
    "\n",
    "output = []\n",
    "\n",
    "for random_state in range(10):\n",
    "    X_dev, X_test, y_dev, y_test = train_test_split(X, y, test_size=1/3, random_state=random_state)    \n",
    "    X_train, X_val, y_train, y_val = train_test_split(X_dev, y_dev, test_size=1/2, random_state=random_state)\n",
    "\n",
    "    reg = LinearRegression().fit(X_train, y_train)\n",
    "    reg.predict(X_test)\n",
    "\n",
    "    output.append([rmse(reg.predict(X_val), y_val),\n",
    "                   rmse(reg.predict(X_test), y_test)])\n",
    "    \n",
    "pd.DataFrame(output, columns=['test', 'validation']).describe()\n"
   ]
  },
  {
   "cell_type": "code",
   "execution_count": 6,
   "id": "fba44af2",
   "metadata": {},
   "outputs": [],
   "source": [
    "lambda_ = np.logspace(-1, 1, 22)\n",
    "l1_ratio_ = np.logspace(0, 3, 22)\n",
    "tol = 0.001\n"
   ]
  },
  {
   "cell_type": "markdown",
   "id": "f05bb234-5590-499d-b082-f804e7c975cc",
   "metadata": {},
   "source": [
    "**OLS**"
   ]
  },
  {
   "cell_type": "code",
   "execution_count": 7,
   "id": "f741b825-0992-450f-9b3d-a151b7e12aef",
   "metadata": {},
   "outputs": [
    {
     "name": "stdout",
     "output_type": "stream",
     "text": [
      "2.710816536918158 2\n"
     ]
    }
   ],
   "source": [
    "pipe_OLS = make_pipeline(PolynomialFeatures(degree = 3, include_bias=True), \n",
    "                           StandardScaler(),\n",
    "                           LinearRegression())\n",
    "                         \n",
    "pipe_OLS.fit(X_dev, y_dev)\n",
    "print(mse(pipe_OLS.predict(X_test),y_test), round(np.sqrt(mse(pipe_OLS.predict(X_test),y_test))))"
   ]
  },
  {
   "cell_type": "markdown",
   "id": "2818e83b-158c-4f47-a5d8-c0b55aebf5fb",
   "metadata": {},
   "source": [
    "**LASSO**"
   ]
  },
  {
   "cell_type": "code",
   "execution_count": 8,
   "id": "f1bede2e",
   "metadata": {},
   "outputs": [],
   "source": [
    "pipe_lasso = make_pipeline(PolynomialFeatures(degree = 3, include_bias=True), \n",
    "                           StandardScaler(),\n",
    "                           Lasso(max_iter = 10000, alpha=lambda_, tol=tol))"
   ]
  },
  {
   "cell_type": "code",
   "execution_count": 9,
   "id": "21910154-a23d-45a7-bc5f-d69c5473da8e",
   "metadata": {},
   "outputs": [
    {
     "data": {
      "text/plain": [
       "lambda\n",
       "0.1    0.474304\n",
       "Name: Validation, dtype: float64"
      ]
     },
     "execution_count": 9,
     "metadata": {},
     "output_type": "execute_result"
    }
   ],
   "source": [
    "train_scores, test_scores = validation_curve(estimator=pipe_lasso,\n",
    "                                             X=X_train, y=y_train,\n",
    "                                             param_name='lasso__alpha',\n",
    "                                             param_range=lambda_,\n",
    "                                             scoring='neg_mean_squared_error',\n",
    "                                             cv=5)\n",
    "\n",
    "mean_values = pd.DataFrame({'Train':-train_scores.mean(axis=1),\n",
    "                          'Validation':-test_scores.mean(axis=1),\n",
    "                          'lambda':lambda_}).set_index('lambda') \n",
    "\n",
    "optimal_lambda_lasso = mean_values.Validation.nsmallest(1)\n",
    "lambda_o_ = optimal_lambda_lasso\n",
    "optimal_lambda_lasso"
   ]
  },
  {
   "cell_type": "code",
   "execution_count": 15,
   "id": "4ad972cc-fa2b-477e-b590-9f03ecff726e",
   "metadata": {},
   "outputs": [
    {
     "name": "stdout",
     "output_type": "stream",
     "text": [
      "lambda\n",
      "0.1    0.474304\n",
      "Name: Validation, dtype: float64   0.475 0.689\n"
     ]
    }
   ],
   "source": [
    "#testing\n",
    "pipe_lasso = make_pipeline(PolynomialFeatures(degree = 3, include_bias=True), \n",
    "                           StandardScaler(),\n",
    "                           Lasso(max_iter = 10000, alpha=0.1, tol=tol))\n",
    "\n",
    "pipe_lasso.fit(X_dev, y_dev)\n",
    "print(lambda_o_,' ',round(mse(pipe_lasso.predict(X_test),y_test),3), round(np.sqrt(mse(pipe_lasso.predict(X_test),y_test)),3))"
   ]
  },
  {
   "cell_type": "code",
   "execution_count": 16,
   "id": "beb41370",
   "metadata": {},
   "outputs": [
    {
     "data": {
      "image/png": "[encoded data removed]",
      "text/plain": [
       "<Figure size 432x288 with 1 Axes>"
      ]
     },
     "metadata": {
      "needs_background": "light"
     },
     "output_type": "display_data"
    }
   ],
   "source": [
    "pd.concat({'train': pd.DataFrame(-train_scores).mean(1), \n",
    "           'test': pd.DataFrame(-test_scores).mean(1)},\n",
    "           axis=1)\\\n",
    "    .pipe(np.sqrt)\\\n",
    "    .set_index(pd.Index(lambda_, name='lambda'))\\\n",
    "    .plot(logx=True, logy=True)\n",
    "\n",
    "plt.show()"
   ]
  },
  {
   "cell_type": "code",
   "execution_count": 23,
   "id": "4c337bb0",
   "metadata": {},
   "outputs": [
    {
     "name": "stdout",
     "output_type": "stream",
     "text": [
      "Float64Index([0.1], dtype='float64')\n"
     ]
    }
   ],
   "source": [
    "kfolds = KFold(n_splits=10)\n",
    "folds = list(kfolds.split(X_dev, y_dev))\n",
    "\n",
    "# outer loop: lambdas\n",
    "meanseCV = []\n",
    "for lambda__ in lambda_:    \n",
    "    # inner loop: folds\n",
    "    meanseCV_ = []    \n",
    "    for train_index, val_index in folds :        \n",
    "        # train model and compute MSE on test fold\n",
    "        pipe_lassoCV = make_pipeline(PolynomialFeatures(degree=3, include_bias=False),\n",
    "                                     StandardScaler(),\n",
    "                                     Lasso(max_iter = 10000, alpha=lambda__, tol=tol))            \n",
    "        X_train, y_train, = X_dev[train_index], y_dev[train_index]\n",
    "        X_val, y_val = X_dev[val_index], y_dev[val_index] \n",
    "        pipe_lassoCV.fit(X_train, y_train)        \n",
    "        meanseCV_.append(mse(pipe_lassoCV.predict(X_val), y_val))\n",
    "        \n",
    "    # store result    \n",
    "    meanseCV_.append(meanseCV) \n",
    "    \n",
    "# convert to DataFrame\n",
    "lambdaCV = pd.DataFrame(meanseCV, index=lambda_)\n",
    "lambdaCV['m'] = lambdaCV.mean(axis=1)\n",
    "lambda_o_ = lambdaCV['m'].nsmallest(1).index\n",
    "print(lambda_o_)"
   ]
  },
  {
   "cell_type": "code",
   "execution_count": 24,
   "id": "8c1fc002",
   "metadata": {},
   "outputs": [
    {
     "name": "stdout",
     "output_type": "stream",
     "text": [
      "Float64Index([0.1], dtype='float64')   0.475 0.689\n"
     ]
    }
   ],
   "source": [
    "pipe_lassoCV = make_pipeline(PolynomialFeatures(degree=3, include_bias=False),\n",
    "                                     StandardScaler(),\n",
    "                                     Lasso(max_iter = 10000, alpha=0.1, tol=tol))\n",
    "\n",
    "pipe_lassoCV.fit(X_dev, y_dev)\n",
    "print(lambda_o_,' ',round(mse(pipe_lassoCV.predict(X_test),y_test),3), round(np.sqrt(mse(pipe_lassoCV.predict(X_test),y_test)),3))"
   ]
  },
  {
   "cell_type": "code",
   "execution_count": null,
   "id": "31197eea",
   "metadata": {},
   "outputs": [],
   "source": []
  },
  {
   "cell_type": "markdown",
   "id": "1d9586ac-ceb6-4037-bb77-3929fb8d0747",
   "metadata": {},
   "source": [
    "Ridge"
   ]
  },
  {
   "cell_type": "code",
   "execution_count": 26,
   "id": "a7fe577a-e44e-4a4c-b1e8-869ea690a587",
   "metadata": {},
   "outputs": [
    {
     "data": {
      "text/plain": [
       "Float64Index([517.9474679231207], dtype='float64', name='lambda')"
      ]
     },
     "execution_count": 26,
     "metadata": {},
     "output_type": "execute_result"
    }
   ],
   "source": [
    "pipe_ridge = make_pipeline(PolynomialFeatures(degree = 3, include_bias=True), \n",
    "                           StandardScaler(),\n",
    "                           Ridge(alpha = l1_ratio_, tol=tol))\n",
    "\n",
    "train_scores, test_scores = validation_curve(estimator=pipe_ridge,\n",
    "                                             X=X_train, y=y_train,\n",
    "                                             param_name='ridge__alpha',\n",
    "                                             param_range=l1_ratio_,\n",
    "                                             scoring='neg_mean_squared_error',\n",
    "                                             cv=5)\n",
    "\n",
    "mse_score = pd.DataFrame({'Train':-train_scores.mean(axis=1),\n",
    "                          'Validation':-test_scores.mean(axis=1),\n",
    "                          'lambda':l1_ratio_}).set_index('lambda')   \n",
    "\n",
    "lambda_R = mse_score.Validation.nsmallest(1)\n",
    "lambda_R = lambda_R.index\n",
    "lambda_R"
   ]
  },
  {
   "cell_type": "code",
   "execution_count": 29,
   "id": "9e256032-aac1-45bf-943c-29b2acd6a262",
   "metadata": {},
   "outputs": [
    {
     "name": "stdout",
     "output_type": "stream",
     "text": [
      "Float64Index([517.9474679231207], dtype='float64', name='lambda')   1.044 1.022\n"
     ]
    }
   ],
   "source": [
    "#testing\n",
    "pipe_ridge = make_pipeline(PolynomialFeatures(degree = 3, include_bias=True), \n",
    "                           StandardScaler(),\n",
    "                           Ridge(alpha = 100, tol=tol))\n",
    "\n",
    "pipe_ridge.fit(X_dev, y_dev)\n",
    "print(lambda_o_,' ', round(mse(pipe_ridge.predict(X_test),y_test),3), round(np.sqrt(mse(pipe_ridge.predict(X_test),y_test)),3))"
   ]
  },
  {
   "cell_type": "code",
   "execution_count": 33,
   "id": "67374047",
   "metadata": {},
   "outputs": [
    {
     "name": "stdout",
     "output_type": "stream",
     "text": [
      "Float64Index([10.0], dtype='float64')\n"
     ]
    }
   ],
   "source": [
    "# outer loop: lambdas\n",
    "mseCV_R = []\n",
    "for l1_ratio__ in l1_ratio_:    \n",
    "    # inner loop: folds\n",
    "    meanseCV_R = []    \n",
    "    for train_idx, val_idx in folds :        \n",
    "        # train model and compute MSE on test fold\n",
    "        pipe_ridgeCV = make_pipeline(PolynomialFeatures(degree = 3, include_bias=True), \n",
    "                           StandardScaler(),\n",
    "                           Ridge(alpha = l1_ratio__, tol=tol))          \n",
    "        X_train, y_train, = X_dev[train_idx], y_dev[train_idx]\n",
    "        X_val, y_val = X_dev[val_idx], y_dev[val_idx] \n",
    "        pipe_ridgeCV.fit(X_train, y_train)        \n",
    "        meanseCV_R.append(mse(pipe_ridgeCV.predict(X_val), y_val))    \n",
    "        \n",
    "    # store result    \n",
    "    mseCV_R.append(meanseCV_R) \n",
    "    \n",
    "# convert to DataFrame\n",
    "lambdaCV = pd.DataFrame(mseCV_R, index=lambda_)\n",
    "lambdaCV['m'] = lambdaCV.mean(axis=1)\n",
    "lambda_o_ = lambdaCV['m'].nsmallest(1).index\n",
    "print(lambda_o_)"
   ]
  },
  {
   "cell_type": "code",
   "execution_count": 34,
   "id": "06462990",
   "metadata": {},
   "outputs": [
    {
     "name": "stdout",
     "output_type": "stream",
     "text": [
      "Float64Index([10.0], dtype='float64')   2.952 1.718\n"
     ]
    }
   ],
   "source": [
    "pipe_ridgeCV = make_pipeline(PolynomialFeatures(degree = 3, include_bias=True), \n",
    "                           StandardScaler(),\n",
    "                           Ridge(alpha = 10, tol=tol))\n",
    "\n",
    "pipe_ridgeCV.fit(X_dev, y_dev)\n",
    "print(lambda_o_,' ', round(mse(pipe_ridgeCV.predict(X_test),y_test),3), round(np.sqrt(mse(pipe_ridgeCV.predict(X_test),y_test)),3))"
   ]
  },
  {
   "cell_type": "markdown",
   "id": "b87d8db8-0071-4943-bf7a-ba73ad228e80",
   "metadata": {},
   "source": [
    "**ELASTIC NET**"
   ]
  }
 ],
 "metadata": {
  "kernelspec": {
   "display_name": "Python 3 (ipykernel)",
   "language": "python",
   "name": "python3"
  },
  "language_info": {
   "codemirror_mode": {
    "name": "ipython",
    "version": 3
   },
   "file_extension": ".py",
   "mimetype": "text/x-python",
   "name": "python",
   "nbconvert_exporter": "python",
   "pygments_lexer": "ipython3",
   "version": "3.9.12"
  }
 },
 "nbformat": 4,
 "nbformat_minor": 5
}
