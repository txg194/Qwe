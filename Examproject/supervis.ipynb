{
 "cells": [
  {
   "cell_type": "code",
   "execution_count": 52,
   "id": "c8e971c6-d405-4041-8c23-71ae1c80cf39",
   "metadata": {},
   "outputs": [
    {
     "data": {
      "text/plain": [
       "[{'id': '2e4f0072-73f4-4b35-94b8-20d70579654d',\n",
       "  'status': 1,\n",
       "  'darstatus': 3,\n",
       "  'vejkode': '7994',\n",
       "  'vejnavn': 'Vanløse Torv',\n",
       "  'adresseringsvejnavn': 'Vanløse Torv',\n",
       "  'husnr': '71',\n",
       "  'etage': '2',\n",
       "  'dør': None,\n",
       "  'supplerendebynavn': None,\n",
       "  'postnr': '2720',\n",
       "  'postnrnavn': 'Vanløse',\n",
       "  'stormodtagerpostnr': None,\n",
       "  'stormodtagerpostnrnavn': None,\n",
       "  'kommunekode': '0101',\n",
       "  'adgangsadresseid': '21fa13cb-35f7-49de-9db0-3916b2a4fc31',\n",
       "  'x': 12.49130429,\n",
       "  'y': 55.68782852,\n",
       "  'href': 'https://api.dataforsyningen.dk/adresser/2e4f0072-73f4-4b35-94b8-20d70579654d',\n",
       "  'betegnelse': 'Vanløse Torv 71, 2., 2720 Vanløse'}]"
      ]
     },
     "execution_count": 52,
     "metadata": {},
     "output_type": "execute_result"
    }
   ],
   "source": [
    "a = \"Vanløse Torv 71\"\n",
    "import requests\n",
    "response = requests.get(f\"https://api.dataforsyningen.dk/adresser?q={a}&struktur=mini\")\n",
    "\n",
    "res_j = response.json()\n",
    "res_j"
   ]
  },
  {
   "cell_type": "code",
   "execution_count": 54,
   "id": "a7d36a03-5b67-43b4-91c3-e75827d4e3f1",
   "metadata": {
    "tags": []
   },
   "outputs": [],
   "source": [
    "x = res_j[0]['x']\n",
    "y = res_j[0]['y']"
   ]
  },
  {
   "cell_type": "code",
   "execution_count": 57,
   "id": "efa6fa88-c9aa-4f3f-94e9-ea27e087d5a2",
   "metadata": {},
   "outputs": [
    {
     "data": {
      "text/plain": [
       "{'daycare': {'poi_id': 3466713,\n",
       "  'name': 'Børnehjørnet Valborg',\n",
       "  'fromlatlng': [55.68782852, 12.49130429],\n",
       "  'travelseconds': 185.0328,\n",
       "  'mot': 'foot',\n",
       "  'routepolyline': [[55.68801, 12.49122],\n",
       "   [55.68798, 12.49104],\n",
       "   [55.68793, 12.4907],\n",
       "   [55.68792, 12.49061],\n",
       "   [55.6879, 12.4905],\n",
       "   [55.68789, 12.49044],\n",
       "   [55.68784, 12.49006],\n",
       "   [55.68781, 12.48985],\n",
       "   [55.68778, 12.48987],\n",
       "   [55.68769, 12.48994],\n",
       "   [55.68756, 12.49007],\n",
       "   [55.68734, 12.49029],\n",
       "   [55.68733, 12.49029],\n",
       "   [55.68731, 12.49015],\n",
       "   [55.68744, 12.48949],\n",
       "   [55.68748, 12.48936],\n",
       "   [55.68751, 12.48929],\n",
       "   [55.68755, 12.48921],\n",
       "   [55.68755, 12.48913]],\n",
       "  'euclideanmeters': 142.64,\n",
       "  'tolatlng': [55.68748135, 12.48912172],\n",
       "  'routedmeters': 256.99}}"
      ]
     },
     "execution_count": 57,
     "metadata": {},
     "output_type": "execute_result"
    }
   ],
   "source": [
    "afstand_daycare_json = requests.get(f'https://hvorlangterder.poi.viamap.net/v1/nearestpoi/?token=eyJkcGZ4IjogImh2b3JsYW5ndGVyZGVyIiwgInJlZiI6ICIyIiwgInBhciI6ICIiLCAicHJpdnMiOiAicjFaMHIwRjBrNkJ0V3FRY09VeWtCL3k2U1VwSnYyUWJneVhldHE0SFk0WE8vM1lyVzArSzl3PT0ifQ.2HJhvgEQPhJZuxuNZcR2y5jhmCn1IQpvqgr337BOI3e1ZzW1YmDVJDfELUKBTSXKNKlhq+1h+B5rO6rpLunNhw&fromlatlng=55.68782852,12.49130429&poitypes=daycare&decodepolyline')\n",
    "afstand_daycare_json.json()"
   ]
  },
  {
   "cell_type": "code",
   "execution_count": 58,
   "id": "36228459",
   "metadata": {},
   "outputs": [
    {
     "data": {
      "text/plain": [
       "{'metro': {'poi_id': 3416436,\n",
       "  'name': 'Vanløse St. (Metro)',\n",
       "  'fromlatlng': [55.68782852, 12.49130429],\n",
       "  'travelseconds': 94.6,\n",
       "  'mot': 'bicycle',\n",
       "  'routepolyline': [[55.68801, 12.49122],\n",
       "   [55.68798, 12.49104],\n",
       "   [55.68793, 12.4907],\n",
       "   [55.68792, 12.49061],\n",
       "   [55.6879, 12.4905],\n",
       "   [55.68782, 12.49055],\n",
       "   [55.68777, 12.4906],\n",
       "   [55.68773, 12.49058],\n",
       "   [55.68765, 12.49047],\n",
       "   [55.68759, 12.49046],\n",
       "   [55.68757, 12.4905],\n",
       "   [55.68752, 12.49069],\n",
       "   [55.6875, 12.49077],\n",
       "   [55.68749, 12.49086],\n",
       "   [55.68743, 12.49112],\n",
       "   [55.68741, 12.4911],\n",
       "   [55.6873, 12.49167]],\n",
       "  'euclideanmeters': 63.32,\n",
       "  'tolatlng': [55.687297488896, 12.491664221017],\n",
       "  'routedmeters': 191.26}}"
      ]
     },
     "execution_count": 58,
     "metadata": {},
     "output_type": "execute_result"
    }
   ],
   "source": [
    "afstand_regionaltog_json = requests.get(f'https://hvorlangterder.poi.viamap.net/v1/nearestpoi/?token=eyJkcGZ4IjogImh2b3JsYW5ndGVyZGVyIiwgInJlZiI6ICIyIiwgInBhciI6ICIiLCAicHJpdnMiOiAicjFaMHIwRjBrNkJ0V3FRY09VeWtCL3k2U1VwSnYyUWJneVhldHE0SFk0WE8vM1lyVzArSzl3PT0ifQ.2HJhvgEQPhJZuxuNZcR2y5jhmCn1IQpvqgr337BOI3e1ZzW1YmDVJDfELUKBTSXKNKlhq+1h+B5rO6rpLunNhw&fromlatlng={i}&poitypes=train&decodepolyline')\n",
    "afstand_regionaltog_json.json()"
   ]
  },
  {
   "cell_type": "code",
   "execution_count": 5,
   "id": "0b535d47-1b7a-4a1e-b607-5a8cea7c8ac8",
   "metadata": {},
   "outputs": [],
   "source": [
    "key = afstand_daycare_json.json()['daycare']"
   ]
  },
  {
   "cell_type": "code",
   "execution_count": 6,
   "id": "be7aecb9-98f1-4e0f-a908-c8985ab43086",
   "metadata": {},
   "outputs": [
    {
     "data": {
      "text/plain": [
       "'Børnehjørnet Valborg'"
      ]
     },
     "execution_count": 6,
     "metadata": {},
     "output_type": "execute_result"
    }
   ],
   "source": [
    "key['name']"
   ]
  },
  {
   "cell_type": "code",
   "execution_count": 7,
   "id": "f1b5fd06-84a0-4152-bc76-117f00948819",
   "metadata": {},
   "outputs": [
    {
     "data": {
      "text/plain": [
       "256.99"
      ]
     },
     "execution_count": 7,
     "metadata": {},
     "output_type": "execute_result"
    }
   ],
   "source": [
    "key['routedmeters']"
   ]
  },
  {
   "cell_type": "code",
   "execution_count": null,
   "id": "4dbe617a-cc67-4bfb-90db-fc8e577b3671",
   "metadata": {},
   "outputs": [],
   "source": []
  }
 ],
 "metadata": {
  "kernelspec": {
   "display_name": "Python 3 (ipykernel)",
   "language": "python",
   "name": "python3"
  },
  "language_info": {
   "codemirror_mode": {
    "name": "ipython",
    "version": 3
   },
   "file_extension": ".py",
   "mimetype": "text/x-python",
   "name": "python",
   "nbconvert_exporter": "python",
   "pygments_lexer": "ipython3",
   "version": "3.9.12"
  }
 },
 "nbformat": 4,
 "nbformat_minor": 5
}
