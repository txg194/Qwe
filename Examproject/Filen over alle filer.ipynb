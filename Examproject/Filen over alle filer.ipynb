{
 "cells": [
  {
   "cell_type": "markdown",
   "id": "679c5725-ed4e-40e0-9948-9431c33ff40a",
   "metadata": {},
   "source": [
    "$\\textbf{IMPORTS}$"
   ]
  },
  {
   "cell_type": "code",
   "execution_count": 8,
   "id": "384e0151-0c18-4c33-8ca4-63c1b054a975",
   "metadata": {},
   "outputs": [],
   "source": [
    "import requests\n",
    "import numpy as np\n",
    "import csv\n",
    "import json\n",
    "import time\n",
    "import pprint\n",
    "import pandas as pd\n",
    "from pathlib import Path\n",
    "from bs4 import BeautifulSoup\n",
    "import warnings\n",
    "warnings.simplefilter(action='ignore', category=FutureWarning)"
   ]
  },
  {
   "cell_type": "markdown",
   "id": "46d05f42-ab40-442e-99d7-585c16364132",
   "metadata": {},
   "source": [
    "$\\textbf{LOAD ALL PAGES}$, BOLIGA.DK"
   ]
  },
  {
   "cell_type": "code",
   "execution_count": 2,
   "id": "3e8e519a-f303-442a-bb47-60f3f2f91b06",
   "metadata": {},
   "outputs": [],
   "source": [
    "#1.Load pages boliga.dk\n",
    "links = []\n",
    "for page in range(1,148): #check the number of pages in link before running this code!!\n",
    "    url_boliga = f'https://www.boliga.dk/resultat?propertyType=3&page={page}&sort=daysForSale-a'\n",
    "    links.append(url_boliga)"
   ]
  },
  {
   "cell_type": "markdown",
   "id": "68e86a0c-e371-4386-b528-c19fd74aaf4e",
   "metadata": {},
   "source": [
    "$\\textbf{SCRAPE DATA FROM EACH PAGE}$, BOLIGA.DK"
   ]
  },
  {
   "cell_type": "code",
   "execution_count": 3,
   "id": "64457de6-665c-4a19-8b15-8012d4c28fe2",
   "metadata": {},
   "outputs": [],
   "source": [
    "#Combinale all code above in a loop to scrape all pages\n",
    "add = []\n",
    "p = []\n",
    "zipc = []\n",
    "m_2 = []\n",
    "rooms_ = []\n",
    "\n",
    "for i in links:\n",
    "    response = requests.get(i, headers={'name':'Sevda Öztürk','email':'txg194b@alumni.ku.dk'})\n",
    "    soup = BeautifulSoup(response.content,\"xml\")\n",
    "    \n",
    "    #append address to list\n",
    "    list_address = soup.find_all(\"div\" ,class_ = 'w-100 mt-1 listing-address font-weight-bold text-nowrap text-truncate')\n",
    "    address = [col.text.split(\",\",1)[0] for col in list_address]\n",
    "    add.append(address)\n",
    "    #convert list of lists to ONE LIST\n",
    "    address_final = []\n",
    "    for sublist in add:\n",
    "        for item in sublist:\n",
    "            address_final.append(item)\n",
    "    \n",
    "    #append price to list\n",
    "    list_price = soup.find_all(\"div\" , class_ =\"price m-0 d-flex align-items-center\")\n",
    "    price = [col.text for col in list_price]\n",
    "    p.append(price)\n",
    "    #convert list of lists to ONE LIST\n",
    "    price_final = []\n",
    "    for sublist in p:\n",
    "        for item in sublist:\n",
    "            price_final.append(item)\n",
    "    \n",
    "    #append zipcode to list\n",
    "    list_zipcode = soup.find_all(\"div\" ,class_ = \"zip-color text-nowrap text-truncate\")\n",
    "    zipcode = [col.text for col in list_zipcode]\n",
    "    zipc.append(zipcode)\n",
    "     #convert list of lists to ONE LIST\n",
    "    zipcode_final = []\n",
    "    for sublist in zipc:\n",
    "        for item in sublist:\n",
    "            zipcode_final.append(item)\n",
    "    \n",
    "    #append m2 to list\n",
    "    list_m2 = soup.find_all(\"span\" ,class_ = \"text-nowrap\")\n",
    "    m2 = [col.text.split() for col in list_m2]\n",
    "    #the variable m2 is a list of lists. The following code keeps the first element of every sublist to get rid of the string \"m2\"\n",
    "    m2 = [element[0] for element in m2]\n",
    "    del m2[0] #delete first element in m2 in order to get all m2 in next code\n",
    "    m2 = m2[::6] #we now keep every 6th element, which is the size of every address\n",
    "    m_2.append(m2)\n",
    "    #convert list of lists to ONE LIST\n",
    "    m2_final = []\n",
    "    for sublist in m_2:\n",
    "        for item in sublist:\n",
    "            m2_final.append(item)\n",
    "    \n",
    "    #append room to list\n",
    "    rooms = [col.text.split() for col in list_m2]\n",
    "    rooms = [elements[1:] for elements in rooms]\n",
    "    rooms = rooms[::6] #we now keep every 6th element, which is no. of rooms\n",
    "    rooms_.append(rooms)\n",
    "    #convert list of lists to ONE LIST\n",
    "    rooms_fin = []\n",
    "    for sublist in rooms_:\n",
    "        for item in sublist:\n",
    "            rooms_fin.append(item)\n",
    "    rooms_final = []\n",
    "    for sublist in rooms_fin:\n",
    "        for item in sublist:\n",
    "            rooms_final.append(item)\n",
    "    #replace \"værelse\" with \"1\"\n",
    "    for i in range(len(rooms_final)):\n",
    "        if rooms_final[i] == \"værelse\":\n",
    "            rooms_final[i] = \"1\"\n",
    "    time.sleep(0.5) #Sleep for 0.5 seconds\n"
   ]
  },
  {
   "cell_type": "markdown",
   "id": "d7ff18c8-e2ca-450f-a361-98c23482cc50",
   "metadata": {},
   "source": [
    "$\\textbf{COMBINE ALL CODE ABOVE INTO ONE DATAFRAME}$"
   ]
  },
  {
   "cell_type": "code",
   "execution_count": 4,
   "id": "2a28284b-efd8-4e65-a4e2-089c017096aa",
   "metadata": {
    "collapsed": true,
    "jupyter": {
     "outputs_hidden": true
    },
    "tags": []
   },
   "outputs": [
    {
     "data": {
      "text/html": [
       "<div>\n",
       "<style scoped>\n",
       "    .dataframe tbody tr th:only-of-type {\n",
       "        vertical-align: middle;\n",
       "    }\n",
       "\n",
       "    .dataframe tbody tr th {\n",
       "        vertical-align: top;\n",
       "    }\n",
       "\n",
       "    .dataframe thead th {\n",
       "        text-align: right;\n",
       "    }\n",
       "</style>\n",
       "<table border=\"1\" class=\"dataframe\">\n",
       "  <thead>\n",
       "    <tr style=\"text-align: right;\">\n",
       "      <th></th>\n",
       "      <th>Pris</th>\n",
       "      <th>address</th>\n",
       "      <th>zipcode</th>\n",
       "      <th>m2</th>\n",
       "      <th>rooms</th>\n",
       "    </tr>\n",
       "  </thead>\n",
       "  <tbody>\n",
       "    <tr>\n",
       "      <th>0</th>\n",
       "      <td>265.000kr.</td>\n",
       "      <td>Nørmarkvej 29 1 12</td>\n",
       "      <td>7600 Struer</td>\n",
       "      <td>57</td>\n",
       "      <td>2</td>\n",
       "    </tr>\n",
       "    <tr>\n",
       "      <th>1</th>\n",
       "      <td>475.000kr.</td>\n",
       "      <td>Skelvangsvej 105</td>\n",
       "      <td>8920 Randers NV</td>\n",
       "      <td>67</td>\n",
       "      <td>2</td>\n",
       "    </tr>\n",
       "    <tr>\n",
       "      <th>2</th>\n",
       "      <td>495.000kr.</td>\n",
       "      <td>Lyksborgvej 38</td>\n",
       "      <td>7500 Holstebro</td>\n",
       "      <td>43</td>\n",
       "      <td>2</td>\n",
       "    </tr>\n",
       "    <tr>\n",
       "      <th>3</th>\n",
       "      <td>495.000kr.</td>\n",
       "      <td>Nyvangsvej 18</td>\n",
       "      <td>8900 Randers C</td>\n",
       "      <td>50</td>\n",
       "      <td>2</td>\n",
       "    </tr>\n",
       "    <tr>\n",
       "      <th>4</th>\n",
       "      <td>525.000kr.</td>\n",
       "      <td>Dalgas Alle 109</td>\n",
       "      <td>7800 Skive</td>\n",
       "      <td>47</td>\n",
       "      <td>1</td>\n",
       "    </tr>\n",
       "    <tr>\n",
       "      <th>...</th>\n",
       "      <td>...</td>\n",
       "      <td>...</td>\n",
       "      <td>...</td>\n",
       "      <td>...</td>\n",
       "      <td>...</td>\n",
       "    </tr>\n",
       "    <tr>\n",
       "      <th>7236</th>\n",
       "      <td>3.225.000kr.</td>\n",
       "      <td>Bydammen 33</td>\n",
       "      <td>2750 Ballerup</td>\n",
       "      <td>88</td>\n",
       "      <td>3</td>\n",
       "    </tr>\n",
       "    <tr>\n",
       "      <th>7237</th>\n",
       "      <td>3.750.000kr.</td>\n",
       "      <td>Bydammen 33</td>\n",
       "      <td>2750 Ballerup</td>\n",
       "      <td>107</td>\n",
       "      <td>3</td>\n",
       "    </tr>\n",
       "    <tr>\n",
       "      <th>7238</th>\n",
       "      <td>2.550.000kr.</td>\n",
       "      <td>Bydammen 23</td>\n",
       "      <td>2750 Ballerup</td>\n",
       "      <td>71</td>\n",
       "      <td>2</td>\n",
       "    </tr>\n",
       "    <tr>\n",
       "      <th>7239</th>\n",
       "      <td>2.695.000kr.</td>\n",
       "      <td>Bydammen 21</td>\n",
       "      <td>2750 Ballerup</td>\n",
       "      <td>75</td>\n",
       "      <td>2</td>\n",
       "    </tr>\n",
       "    <tr>\n",
       "      <th>7240</th>\n",
       "      <td>2.398.000kr.</td>\n",
       "      <td>Fjord Alle 8</td>\n",
       "      <td>6950 Ringkøbing</td>\n",
       "      <td>111</td>\n",
       "      <td>4</td>\n",
       "    </tr>\n",
       "  </tbody>\n",
       "</table>\n",
       "<p>7241 rows × 5 columns</p>\n",
       "</div>"
      ],
      "text/plain": [
       "                Pris               address          zipcode   m2 rooms\n",
       "0        265.000kr.    Nørmarkvej 29 1 12       7600 Struer   57     2\n",
       "1        475.000kr.       Skelvangsvej 105  8920 Randers NV   67     2\n",
       "2        495.000kr.         Lyksborgvej 38   7500 Holstebro   43     2\n",
       "3        495.000kr.          Nyvangsvej 18   8900 Randers C   50     2\n",
       "4        525.000kr.        Dalgas Alle 109       7800 Skive   47     1\n",
       "...              ...                   ...              ...  ...   ...\n",
       "7236   3.225.000kr.            Bydammen 33    2750 Ballerup   88     3\n",
       "7237   3.750.000kr.            Bydammen 33    2750 Ballerup  107     3\n",
       "7238   2.550.000kr.            Bydammen 23    2750 Ballerup   71     2\n",
       "7239   2.695.000kr.            Bydammen 21    2750 Ballerup   75     2\n",
       "7240   2.398.000kr.           Fjord Alle 8  6950 Ringkøbing  111     4\n",
       "\n",
       "[7241 rows x 5 columns]"
      ]
     },
     "execution_count": 4,
     "metadata": {},
     "output_type": "execute_result"
    }
   ],
   "source": [
    "#1. Combine all scraped lists in one dataframe\n",
    "df_addzip = {\"Pris\": price_final, \"address\": address_final, \"zipcode\": zipcode_final, \"m2\": m2_final, \"rooms\": rooms_final}\n",
    "df_data = pd.DataFrame(df_addzip)\n",
    "df_data"
   ]
  },
  {
   "cell_type": "markdown",
   "id": "96b91763-6981-42d1-b70f-135ec9ee5fa4",
   "metadata": {},
   "source": [
    " "
   ]
  },
  {
   "cell_type": "markdown",
   "id": "c0409f1d-d141-4bb7-8641-4c996295b9c6",
   "metadata": {},
   "source": [
    "$\\textbf{GET  DISTANCES}, \\ dataforsyningen.dk, \\ hvorlangterder.dk$"
   ]
  },
  {
   "cell_type": "code",
   "execution_count": 5,
   "id": "78cc25a1-ce85-4324-aa37-334d9807a81c",
   "metadata": {
    "tags": []
   },
   "outputs": [],
   "source": [
    "#1. Load pages\n",
    "Address_zipcode = df_data[\"address\"] + \" \" + df_data[\"zipcode\"]\n",
    "add_zip = []\n",
    "for i in Address_zipcode:\n",
    "    response_dist = requests.get(f\"https://api.dataforsyningen.dk/adresser?q={i}&struktur=mini\", headers={'name':'Sevda Öztürk','email':'txg194b@alumni.ku.dk'})\n",
    "    res_j = response_dist.json()\n",
    "    add_zip.append(res_j)"
   ]
  },
  {
   "cell_type": "markdown",
   "id": "635e1d16-5a85-4f70-b560-ddce84a6c340",
   "metadata": {},
   "source": [
    "Before continuing, locate missing values due to typing error in column address in df_data"
   ]
  },
  {
   "cell_type": "code",
   "execution_count": 6,
   "id": "d895dd41-c314-4094-8415-5c828538e67b",
   "metadata": {
    "tags": []
   },
   "outputs": [],
   "source": [
    "#2. Locate missing values\n",
    "df_add_zip = pd.DataFrame(add_zip)\n",
    "index = df_add_zip[df_add_zip[0].isnull()][0]\n",
    "\n",
    "#3. Store index numbers in order to del the corresponding indexes in df_data\n",
    "index_list = list(index.index.values)\n",
    "\n",
    "#4. Delete corresponding rows in df_data\n",
    "for i in index_list:\n",
    "    df_add_zip.drop(i, inplace=True)\n",
    "\n",
    "#5. reset_index keeps failing, so here comes another index-method    \n",
    "df_add_zip[\"new_index\"] = range(len(df_add_zip))\n",
    "df_add_zip.set_index(\"new_index\", inplace=True)\n",
    "\n",
    "#vi mister 7254 - 7114 observationer efter fjernelse af missing values!!"
   ]
  },
  {
   "cell_type": "markdown",
   "id": "319e39ff-ac2e-4e44-b6de-55ae5f7f3c57",
   "metadata": {},
   "source": [
    "Drop missing values in df_data"
   ]
  },
  {
   "cell_type": "code",
   "execution_count": 7,
   "id": "ba78e8a2-9240-4ffd-9f70-9e50b2ac42c6",
   "metadata": {
    "tags": []
   },
   "outputs": [],
   "source": [
    "#6. Delete corresponding rows in df_data\n",
    "for i in index_list:\n",
    "    df_data.drop(i, inplace=True)\n",
    "\n",
    "#reset_index keeps failing, so here comes another index-method    \n",
    "df_data[\"new_index\"] = range(len(df_data))\n",
    "df_data.set_index(\"new_index\", inplace=True)\n",
    "\n",
    "#vi mister 7254 - 7114 observationer efter fjernelse af missing values!!"
   ]
  },
  {
   "cell_type": "code",
   "execution_count": 11,
   "id": "bd1a0a64-7f2b-4fe7-b42e-1eeeb78dd554",
   "metadata": {
    "tags": []
   },
   "outputs": [],
   "source": [
    "#7. Get longitude, x, and latitudes, y from address i\n",
    "x = []\n",
    "y = []\n",
    "\n",
    "for i in range(len(df_add_zip)):\n",
    "    xx = df_add_zip[0][i][\"x\"]\n",
    "    x.append(xx)\n",
    "\n",
    "for i in range(len(df_add_zip)):\n",
    "    yy = df_add_zip[0][i][\"y\"]\n",
    "    y.append(yy)"
   ]
  },
  {
   "cell_type": "code",
   "execution_count": 27,
   "id": "6d73374a-804f-415c-9d38-7cab3fab5ddc",
   "metadata": {},
   "outputs": [],
   "source": [
    "#8. Add coordinates to df_data\n",
    "df_data[\"x\"] = x\n",
    "df_data[\"y\"] = y\n",
    "xy = df_data[\"y\"].apply(str) +\",\"+ df_data[\"x\"].apply(str)"
   ]
  },
  {
   "cell_type": "code",
   "execution_count": 13,
   "id": "65d2eeeb-511a-412f-8190-6654a2fb1076",
   "metadata": {
    "tags": []
   },
   "outputs": [],
   "source": [
    "#3 Get distance to nearest daycare\n",
    "daycare_distance = []\n",
    "\n",
    "for i in xy:\n",
    "    afstand_daycare_json = requests.get(f'https://hvorlangterder.poi.viamap.net/v1/nearestpoi/?token=eyJkcGZ4IjogImh2b3JsYW5ndGVyZGVyIiwgInJlZiI6ICIyIiwgInBhciI6ICIiLCAicHJpdnMiOiAicjFaMHIwRjBrNkJ0V3FRY09VeWtCL3k2U1VwSnYyUWJneVhldHE0SFk0WE8vM1lyVzArSzl3PT0ifQ.2HJhvgEQPhJZuxuNZcR2y5jhmCn1IQpvqgr337BOI3e1ZzW1YmDVJDfELUKBTSXKNKlhq+1h+B5rO6rpLunNhw&fromlatlng={i}&poitypes=daycare&decodepolyline')\n",
    "    afstand_daycare_json.json()\n",
    "    key = afstand_daycare_json.json()['daycare']\n",
    "    key = key['routedmeters']\n",
    "    daycare_distance.append(key)"
   ]
  },
  {
   "cell_type": "code",
   "execution_count": 15,
   "id": "bc2973e2",
   "metadata": {},
   "outputs": [],
   "source": [
    "regionaltog_distance = []\n",
    "\n",
    "for i in xy:\n",
    "    afstand_regionaltog_json = requests.get(f'https://hvorlangterder.poi.viamap.net/v1/nearestpoi/?token=eyJkcGZ4IjogImh2b3JsYW5ndGVyZGVyIiwgInJlZiI6ICIyIiwgInBhciI6ICIiLCAicHJpdnMiOiAicjFaMHIwRjBrNkJ0V3FRY09VeWtCL3k2U1VwSnYyUWJneVhldHE0SFk0WE8vM1lyVzArSzl3PT0ifQ.2HJhvgEQPhJZuxuNZcR2y5jhmCn1IQpvqgr337BOI3e1ZzW1YmDVJDfELUKBTSXKNKlhq+1h+B5rO6rpLunNhw&fromlatlng={i}&poitypes=train&decodepolyline')\n",
    "    afstand_regionaltog_json.json()\n",
    "    key = afstand_regionaltog_json.json()['train']\n",
    "    key = key['routedmeters']\n",
    "    regionaltog_distance.append(key)"
   ]
  },
  {
   "cell_type": "code",
   "execution_count": 16,
   "id": "2926b83f",
   "metadata": {},
   "outputs": [],
   "source": [
    "school_distance = []\n",
    "\n",
    "for i in xy:\n",
    "    afstand_school_json = requests.get(f'https://hvorlangterder.poi.viamap.net/v1/nearestpoi/?token=eyJkcGZ4IjogImh2b3JsYW5ndGVyZGVyIiwgInJlZiI6ICIyIiwgInBhciI6ICIiLCAicHJpdnMiOiAicjFaMHIwRjBrNkJ0V3FRY09VeWtCL3k2U1VwSnYyUWJneVhldHE0SFk0WE8vM1lyVzArSzl3PT0ifQ.2HJhvgEQPhJZuxuNZcR2y5jhmCn1IQpvqgr337BOI3e1ZzW1YmDVJDfELUKBTSXKNKlhq+1h+B5rO6rpLunNhw&fromlatlng={i}&poitypes=school&decodepolyline')\n",
    "    afstand_school_json.json()\n",
    "    key = afstand_school_json.json()['school']\n",
    "    key = key['routedmeters']\n",
    "    school_distance.append(key)"
   ]
  },
  {
   "cell_type": "code",
   "execution_count": 28,
   "id": "01828a44-6e28-4ed9-a006-86b43a6071df",
   "metadata": {},
   "outputs": [],
   "source": [
    "supermarket_distance = []\n",
    "\n",
    "for i in xy:\n",
    "    afstand_supermarket_json = requests.get(f'https://hvorlangterder.poi.viamap.net/v1/nearestpoi/?token=eyJkcGZ4IjogImh2b3JsYW5ndGVyZGVyIiwgInJlZiI6ICIyIiwgInBhciI6ICIiLCAicHJpdnMiOiAicjFaMHIwRjBrNkJ0V3FRY09VeWtCL3k2U1VwSnYyUWJneVhldHE0SFk0WE8vM1lyVzArSzl3PT0ifQ.2HJhvgEQPhJZuxuNZcR2y5jhmCn1IQpvqgr337BOI3e1ZzW1YmDVJDfELUKBTSXKNKlhq+1h+B5rO6rpLunNhw&fromlatlng={i}&poitypes=supermarket&decodepolyline')\n",
    "    afstand_supermarket_json.json()\n",
    "    key = afstand_supermarket_json.json()['supermarket']\n",
    "    key = key['routedmeters']\n",
    "    supermarket_distance.append(key)"
   ]
  },
  {
   "cell_type": "code",
   "execution_count": 29,
   "id": "c57466bf",
   "metadata": {},
   "outputs": [],
   "source": [
    "hospital_distance = []\n",
    "\n",
    "for i in xy:\n",
    "    hospital_distance_json = requests.get(f'https://hvorlangterder.poi.viamap.net/v1/nearestpoi/?token=eyJkcGZ4IjogImh2b3JsYW5ndGVyZGVyIiwgInJlZiI6ICIyIiwgInBhciI6ICIiLCAicHJpdnMiOiAicjFaMHIwRjBrNkJ0V3FRY09VeWtCL3k2U1VwSnYyUWJneVhldHE0SFk0WE8vM1lyVzArSzl3PT0ifQ.2HJhvgEQPhJZuxuNZcR2y5jhmCn1IQpvqgr337BOI3e1ZzW1YmDVJDfELUKBTSXKNKlhq+1h+B5rO6rpLunNhw&fromlatlng={i}&poitypes=hospital&decodepolyline')\n",
    "    hospital_distance_json.json()\n",
    "    key = hospital_distance_json.json()['hospital']\n",
    "    key = key['routedmeters']\n",
    "    hospital_distance.append(key)"
   ]
  },
  {
   "cell_type": "markdown",
   "id": "a42e30d0-a618-4dcf-bc6a-f9880b850d9a",
   "metadata": {},
   "source": [
    "$\\textbf{FINAL DATASET}$"
   ]
  },
  {
   "cell_type": "code",
   "execution_count": 36,
   "id": "2ef08b4b-2bc3-48b1-96db-c05971bd1ea0",
   "metadata": {},
   "outputs": [],
   "source": [
    "#4 Add coordinates of addresses in dataframe\n",
    "df_data[\"daycare_distance\"] = daycare_distance\n",
    "df_data[\"train_distance\"] = regionaltog_distance\n",
    "df_data[\"school_distance\"] = school_distance\n",
    "df_data[\"supermarket_distance\"] = supermarket_distance\n",
    "df_data[\"hospital_distance\"] = hospital_distance"
   ]
  },
  {
   "cell_type": "code",
   "execution_count": 12,
   "id": "88d74d38-4213-4530-af2a-761550c267a7",
   "metadata": {},
   "outputs": [
    {
     "ename": "FileNotFoundError",
     "evalue": "[Errno 2] No such file or directory: '/home/jonasmorsing/SDS/v4dist.csv'",
     "output_type": "error",
     "traceback": [
      "\u001b[0;31m---------------------------------------------------------------------------\u001b[0m",
      "\u001b[0;31mFileNotFoundError\u001b[0m                         Traceback (most recent call last)",
      "Input \u001b[0;32mIn [12]\u001b[0m, in \u001b[0;36m<cell line: 1>\u001b[0;34m()\u001b[0m\n\u001b[0;32m----> 1\u001b[0m df_data \u001b[38;5;241m=\u001b[39m \u001b[43mpd\u001b[49m\u001b[38;5;241;43m.\u001b[39;49m\u001b[43mread_csv\u001b[49m\u001b[43m(\u001b[49m\u001b[43mPath\u001b[49m\u001b[38;5;241;43m.\u001b[39;49m\u001b[43mcwd\u001b[49m\u001b[43m(\u001b[49m\u001b[43m)\u001b[49m\u001b[43m \u001b[49m\u001b[38;5;241;43m/\u001b[39;49m\u001b[43m \u001b[49m\u001b[38;5;124;43m'\u001b[39;49m\u001b[38;5;124;43mv4dist.csv\u001b[39;49m\u001b[38;5;124;43m'\u001b[39;49m\u001b[43m)\u001b[49m\n",
      "File \u001b[0;32m~/anaconda3/lib/python3.9/site-packages/pandas/util/_decorators.py:311\u001b[0m, in \u001b[0;36mdeprecate_nonkeyword_arguments.<locals>.decorate.<locals>.wrapper\u001b[0;34m(*args, **kwargs)\u001b[0m\n\u001b[1;32m    305\u001b[0m \u001b[38;5;28;01mif\u001b[39;00m \u001b[38;5;28mlen\u001b[39m(args) \u001b[38;5;241m>\u001b[39m num_allow_args:\n\u001b[1;32m    306\u001b[0m     warnings\u001b[38;5;241m.\u001b[39mwarn(\n\u001b[1;32m    307\u001b[0m         msg\u001b[38;5;241m.\u001b[39mformat(arguments\u001b[38;5;241m=\u001b[39marguments),\n\u001b[1;32m    308\u001b[0m         \u001b[38;5;167;01mFutureWarning\u001b[39;00m,\n\u001b[1;32m    309\u001b[0m         stacklevel\u001b[38;5;241m=\u001b[39mstacklevel,\n\u001b[1;32m    310\u001b[0m     )\n\u001b[0;32m--> 311\u001b[0m \u001b[38;5;28;01mreturn\u001b[39;00m \u001b[43mfunc\u001b[49m\u001b[43m(\u001b[49m\u001b[38;5;241;43m*\u001b[39;49m\u001b[43margs\u001b[49m\u001b[43m,\u001b[49m\u001b[43m \u001b[49m\u001b[38;5;241;43m*\u001b[39;49m\u001b[38;5;241;43m*\u001b[39;49m\u001b[43mkwargs\u001b[49m\u001b[43m)\u001b[49m\n",
      "File \u001b[0;32m~/anaconda3/lib/python3.9/site-packages/pandas/io/parsers/readers.py:680\u001b[0m, in \u001b[0;36mread_csv\u001b[0;34m(filepath_or_buffer, sep, delimiter, header, names, index_col, usecols, squeeze, prefix, mangle_dupe_cols, dtype, engine, converters, true_values, false_values, skipinitialspace, skiprows, skipfooter, nrows, na_values, keep_default_na, na_filter, verbose, skip_blank_lines, parse_dates, infer_datetime_format, keep_date_col, date_parser, dayfirst, cache_dates, iterator, chunksize, compression, thousands, decimal, lineterminator, quotechar, quoting, doublequote, escapechar, comment, encoding, encoding_errors, dialect, error_bad_lines, warn_bad_lines, on_bad_lines, delim_whitespace, low_memory, memory_map, float_precision, storage_options)\u001b[0m\n\u001b[1;32m    665\u001b[0m kwds_defaults \u001b[38;5;241m=\u001b[39m _refine_defaults_read(\n\u001b[1;32m    666\u001b[0m     dialect,\n\u001b[1;32m    667\u001b[0m     delimiter,\n\u001b[0;32m   (...)\u001b[0m\n\u001b[1;32m    676\u001b[0m     defaults\u001b[38;5;241m=\u001b[39m{\u001b[38;5;124m\"\u001b[39m\u001b[38;5;124mdelimiter\u001b[39m\u001b[38;5;124m\"\u001b[39m: \u001b[38;5;124m\"\u001b[39m\u001b[38;5;124m,\u001b[39m\u001b[38;5;124m\"\u001b[39m},\n\u001b[1;32m    677\u001b[0m )\n\u001b[1;32m    678\u001b[0m kwds\u001b[38;5;241m.\u001b[39mupdate(kwds_defaults)\n\u001b[0;32m--> 680\u001b[0m \u001b[38;5;28;01mreturn\u001b[39;00m \u001b[43m_read\u001b[49m\u001b[43m(\u001b[49m\u001b[43mfilepath_or_buffer\u001b[49m\u001b[43m,\u001b[49m\u001b[43m \u001b[49m\u001b[43mkwds\u001b[49m\u001b[43m)\u001b[49m\n",
      "File \u001b[0;32m~/anaconda3/lib/python3.9/site-packages/pandas/io/parsers/readers.py:575\u001b[0m, in \u001b[0;36m_read\u001b[0;34m(filepath_or_buffer, kwds)\u001b[0m\n\u001b[1;32m    572\u001b[0m _validate_names(kwds\u001b[38;5;241m.\u001b[39mget(\u001b[38;5;124m\"\u001b[39m\u001b[38;5;124mnames\u001b[39m\u001b[38;5;124m\"\u001b[39m, \u001b[38;5;28;01mNone\u001b[39;00m))\n\u001b[1;32m    574\u001b[0m \u001b[38;5;66;03m# Create the parser.\u001b[39;00m\n\u001b[0;32m--> 575\u001b[0m parser \u001b[38;5;241m=\u001b[39m \u001b[43mTextFileReader\u001b[49m\u001b[43m(\u001b[49m\u001b[43mfilepath_or_buffer\u001b[49m\u001b[43m,\u001b[49m\u001b[43m \u001b[49m\u001b[38;5;241;43m*\u001b[39;49m\u001b[38;5;241;43m*\u001b[39;49m\u001b[43mkwds\u001b[49m\u001b[43m)\u001b[49m\n\u001b[1;32m    577\u001b[0m \u001b[38;5;28;01mif\u001b[39;00m chunksize \u001b[38;5;129;01mor\u001b[39;00m iterator:\n\u001b[1;32m    578\u001b[0m     \u001b[38;5;28;01mreturn\u001b[39;00m parser\n",
      "File \u001b[0;32m~/anaconda3/lib/python3.9/site-packages/pandas/io/parsers/readers.py:934\u001b[0m, in \u001b[0;36mTextFileReader.__init__\u001b[0;34m(self, f, engine, **kwds)\u001b[0m\n\u001b[1;32m    931\u001b[0m     \u001b[38;5;28mself\u001b[39m\u001b[38;5;241m.\u001b[39moptions[\u001b[38;5;124m\"\u001b[39m\u001b[38;5;124mhas_index_names\u001b[39m\u001b[38;5;124m\"\u001b[39m] \u001b[38;5;241m=\u001b[39m kwds[\u001b[38;5;124m\"\u001b[39m\u001b[38;5;124mhas_index_names\u001b[39m\u001b[38;5;124m\"\u001b[39m]\n\u001b[1;32m    933\u001b[0m \u001b[38;5;28mself\u001b[39m\u001b[38;5;241m.\u001b[39mhandles: IOHandles \u001b[38;5;241m|\u001b[39m \u001b[38;5;28;01mNone\u001b[39;00m \u001b[38;5;241m=\u001b[39m \u001b[38;5;28;01mNone\u001b[39;00m\n\u001b[0;32m--> 934\u001b[0m \u001b[38;5;28mself\u001b[39m\u001b[38;5;241m.\u001b[39m_engine \u001b[38;5;241m=\u001b[39m \u001b[38;5;28;43mself\u001b[39;49m\u001b[38;5;241;43m.\u001b[39;49m\u001b[43m_make_engine\u001b[49m\u001b[43m(\u001b[49m\u001b[43mf\u001b[49m\u001b[43m,\u001b[49m\u001b[43m \u001b[49m\u001b[38;5;28;43mself\u001b[39;49m\u001b[38;5;241;43m.\u001b[39;49m\u001b[43mengine\u001b[49m\u001b[43m)\u001b[49m\n",
      "File \u001b[0;32m~/anaconda3/lib/python3.9/site-packages/pandas/io/parsers/readers.py:1218\u001b[0m, in \u001b[0;36mTextFileReader._make_engine\u001b[0;34m(self, f, engine)\u001b[0m\n\u001b[1;32m   1214\u001b[0m     mode \u001b[38;5;241m=\u001b[39m \u001b[38;5;124m\"\u001b[39m\u001b[38;5;124mrb\u001b[39m\u001b[38;5;124m\"\u001b[39m\n\u001b[1;32m   1215\u001b[0m \u001b[38;5;66;03m# error: No overload variant of \"get_handle\" matches argument types\u001b[39;00m\n\u001b[1;32m   1216\u001b[0m \u001b[38;5;66;03m# \"Union[str, PathLike[str], ReadCsvBuffer[bytes], ReadCsvBuffer[str]]\"\u001b[39;00m\n\u001b[1;32m   1217\u001b[0m \u001b[38;5;66;03m# , \"str\", \"bool\", \"Any\", \"Any\", \"Any\", \"Any\", \"Any\"\u001b[39;00m\n\u001b[0;32m-> 1218\u001b[0m \u001b[38;5;28mself\u001b[39m\u001b[38;5;241m.\u001b[39mhandles \u001b[38;5;241m=\u001b[39m \u001b[43mget_handle\u001b[49m\u001b[43m(\u001b[49m\u001b[43m  \u001b[49m\u001b[38;5;66;43;03m# type: ignore[call-overload]\u001b[39;49;00m\n\u001b[1;32m   1219\u001b[0m \u001b[43m    \u001b[49m\u001b[43mf\u001b[49m\u001b[43m,\u001b[49m\n\u001b[1;32m   1220\u001b[0m \u001b[43m    \u001b[49m\u001b[43mmode\u001b[49m\u001b[43m,\u001b[49m\n\u001b[1;32m   1221\u001b[0m \u001b[43m    \u001b[49m\u001b[43mencoding\u001b[49m\u001b[38;5;241;43m=\u001b[39;49m\u001b[38;5;28;43mself\u001b[39;49m\u001b[38;5;241;43m.\u001b[39;49m\u001b[43moptions\u001b[49m\u001b[38;5;241;43m.\u001b[39;49m\u001b[43mget\u001b[49m\u001b[43m(\u001b[49m\u001b[38;5;124;43m\"\u001b[39;49m\u001b[38;5;124;43mencoding\u001b[39;49m\u001b[38;5;124;43m\"\u001b[39;49m\u001b[43m,\u001b[49m\u001b[43m \u001b[49m\u001b[38;5;28;43;01mNone\u001b[39;49;00m\u001b[43m)\u001b[49m\u001b[43m,\u001b[49m\n\u001b[1;32m   1222\u001b[0m \u001b[43m    \u001b[49m\u001b[43mcompression\u001b[49m\u001b[38;5;241;43m=\u001b[39;49m\u001b[38;5;28;43mself\u001b[39;49m\u001b[38;5;241;43m.\u001b[39;49m\u001b[43moptions\u001b[49m\u001b[38;5;241;43m.\u001b[39;49m\u001b[43mget\u001b[49m\u001b[43m(\u001b[49m\u001b[38;5;124;43m\"\u001b[39;49m\u001b[38;5;124;43mcompression\u001b[39;49m\u001b[38;5;124;43m\"\u001b[39;49m\u001b[43m,\u001b[49m\u001b[43m \u001b[49m\u001b[38;5;28;43;01mNone\u001b[39;49;00m\u001b[43m)\u001b[49m\u001b[43m,\u001b[49m\n\u001b[1;32m   1223\u001b[0m \u001b[43m    \u001b[49m\u001b[43mmemory_map\u001b[49m\u001b[38;5;241;43m=\u001b[39;49m\u001b[38;5;28;43mself\u001b[39;49m\u001b[38;5;241;43m.\u001b[39;49m\u001b[43moptions\u001b[49m\u001b[38;5;241;43m.\u001b[39;49m\u001b[43mget\u001b[49m\u001b[43m(\u001b[49m\u001b[38;5;124;43m\"\u001b[39;49m\u001b[38;5;124;43mmemory_map\u001b[39;49m\u001b[38;5;124;43m\"\u001b[39;49m\u001b[43m,\u001b[49m\u001b[43m \u001b[49m\u001b[38;5;28;43;01mFalse\u001b[39;49;00m\u001b[43m)\u001b[49m\u001b[43m,\u001b[49m\n\u001b[1;32m   1224\u001b[0m \u001b[43m    \u001b[49m\u001b[43mis_text\u001b[49m\u001b[38;5;241;43m=\u001b[39;49m\u001b[43mis_text\u001b[49m\u001b[43m,\u001b[49m\n\u001b[1;32m   1225\u001b[0m \u001b[43m    \u001b[49m\u001b[43merrors\u001b[49m\u001b[38;5;241;43m=\u001b[39;49m\u001b[38;5;28;43mself\u001b[39;49m\u001b[38;5;241;43m.\u001b[39;49m\u001b[43moptions\u001b[49m\u001b[38;5;241;43m.\u001b[39;49m\u001b[43mget\u001b[49m\u001b[43m(\u001b[49m\u001b[38;5;124;43m\"\u001b[39;49m\u001b[38;5;124;43mencoding_errors\u001b[39;49m\u001b[38;5;124;43m\"\u001b[39;49m\u001b[43m,\u001b[49m\u001b[43m \u001b[49m\u001b[38;5;124;43m\"\u001b[39;49m\u001b[38;5;124;43mstrict\u001b[39;49m\u001b[38;5;124;43m\"\u001b[39;49m\u001b[43m)\u001b[49m\u001b[43m,\u001b[49m\n\u001b[1;32m   1226\u001b[0m \u001b[43m    \u001b[49m\u001b[43mstorage_options\u001b[49m\u001b[38;5;241;43m=\u001b[39;49m\u001b[38;5;28;43mself\u001b[39;49m\u001b[38;5;241;43m.\u001b[39;49m\u001b[43moptions\u001b[49m\u001b[38;5;241;43m.\u001b[39;49m\u001b[43mget\u001b[49m\u001b[43m(\u001b[49m\u001b[38;5;124;43m\"\u001b[39;49m\u001b[38;5;124;43mstorage_options\u001b[39;49m\u001b[38;5;124;43m\"\u001b[39;49m\u001b[43m,\u001b[49m\u001b[43m \u001b[49m\u001b[38;5;28;43;01mNone\u001b[39;49;00m\u001b[43m)\u001b[49m\u001b[43m,\u001b[49m\n\u001b[1;32m   1227\u001b[0m \u001b[43m\u001b[49m\u001b[43m)\u001b[49m\n\u001b[1;32m   1228\u001b[0m \u001b[38;5;28;01massert\u001b[39;00m \u001b[38;5;28mself\u001b[39m\u001b[38;5;241m.\u001b[39mhandles \u001b[38;5;129;01mis\u001b[39;00m \u001b[38;5;129;01mnot\u001b[39;00m \u001b[38;5;28;01mNone\u001b[39;00m\n\u001b[1;32m   1229\u001b[0m f \u001b[38;5;241m=\u001b[39m \u001b[38;5;28mself\u001b[39m\u001b[38;5;241m.\u001b[39mhandles\u001b[38;5;241m.\u001b[39mhandle\n",
      "File \u001b[0;32m~/anaconda3/lib/python3.9/site-packages/pandas/io/common.py:786\u001b[0m, in \u001b[0;36mget_handle\u001b[0;34m(path_or_buf, mode, encoding, compression, memory_map, is_text, errors, storage_options)\u001b[0m\n\u001b[1;32m    781\u001b[0m \u001b[38;5;28;01melif\u001b[39;00m \u001b[38;5;28misinstance\u001b[39m(handle, \u001b[38;5;28mstr\u001b[39m):\n\u001b[1;32m    782\u001b[0m     \u001b[38;5;66;03m# Check whether the filename is to be opened in binary mode.\u001b[39;00m\n\u001b[1;32m    783\u001b[0m     \u001b[38;5;66;03m# Binary mode does not support 'encoding' and 'newline'.\u001b[39;00m\n\u001b[1;32m    784\u001b[0m     \u001b[38;5;28;01mif\u001b[39;00m ioargs\u001b[38;5;241m.\u001b[39mencoding \u001b[38;5;129;01mand\u001b[39;00m \u001b[38;5;124m\"\u001b[39m\u001b[38;5;124mb\u001b[39m\u001b[38;5;124m\"\u001b[39m \u001b[38;5;129;01mnot\u001b[39;00m \u001b[38;5;129;01min\u001b[39;00m ioargs\u001b[38;5;241m.\u001b[39mmode:\n\u001b[1;32m    785\u001b[0m         \u001b[38;5;66;03m# Encoding\u001b[39;00m\n\u001b[0;32m--> 786\u001b[0m         handle \u001b[38;5;241m=\u001b[39m \u001b[38;5;28;43mopen\u001b[39;49m\u001b[43m(\u001b[49m\n\u001b[1;32m    787\u001b[0m \u001b[43m            \u001b[49m\u001b[43mhandle\u001b[49m\u001b[43m,\u001b[49m\n\u001b[1;32m    788\u001b[0m \u001b[43m            \u001b[49m\u001b[43mioargs\u001b[49m\u001b[38;5;241;43m.\u001b[39;49m\u001b[43mmode\u001b[49m\u001b[43m,\u001b[49m\n\u001b[1;32m    789\u001b[0m \u001b[43m            \u001b[49m\u001b[43mencoding\u001b[49m\u001b[38;5;241;43m=\u001b[39;49m\u001b[43mioargs\u001b[49m\u001b[38;5;241;43m.\u001b[39;49m\u001b[43mencoding\u001b[49m\u001b[43m,\u001b[49m\n\u001b[1;32m    790\u001b[0m \u001b[43m            \u001b[49m\u001b[43merrors\u001b[49m\u001b[38;5;241;43m=\u001b[39;49m\u001b[43merrors\u001b[49m\u001b[43m,\u001b[49m\n\u001b[1;32m    791\u001b[0m \u001b[43m            \u001b[49m\u001b[43mnewline\u001b[49m\u001b[38;5;241;43m=\u001b[39;49m\u001b[38;5;124;43m\"\u001b[39;49m\u001b[38;5;124;43m\"\u001b[39;49m\u001b[43m,\u001b[49m\n\u001b[1;32m    792\u001b[0m \u001b[43m        \u001b[49m\u001b[43m)\u001b[49m\n\u001b[1;32m    793\u001b[0m     \u001b[38;5;28;01melse\u001b[39;00m:\n\u001b[1;32m    794\u001b[0m         \u001b[38;5;66;03m# Binary mode\u001b[39;00m\n\u001b[1;32m    795\u001b[0m         handle \u001b[38;5;241m=\u001b[39m \u001b[38;5;28mopen\u001b[39m(handle, ioargs\u001b[38;5;241m.\u001b[39mmode)\n",
      "\u001b[0;31mFileNotFoundError\u001b[0m: [Errno 2] No such file or directory: '/home/jonasmorsing/SDS/v4dist.csv'"
     ]
    }
   ],
   "source": [
    "df_data = pd.read_csv(Path.cwd() / 'v4dist.csv') "
   ]
  },
  {
   "cell_type": "code",
   "execution_count": 11,
   "id": "bfd16ee2-8434-4763-b6ad-5e2557329887",
   "metadata": {},
   "outputs": [
    {
     "ename": "NameError",
     "evalue": "name 'df_data' is not defined",
     "output_type": "error",
     "traceback": [
      "\u001b[0;31m---------------------------------------------------------------------------\u001b[0m",
      "\u001b[0;31mNameError\u001b[0m                                 Traceback (most recent call last)",
      "Input \u001b[0;32mIn [11]\u001b[0m, in \u001b[0;36m<cell line: 1>\u001b[0;34m()\u001b[0m\n\u001b[0;32m----> 1\u001b[0m \u001b[43mdf_data\u001b[49m\n",
      "\u001b[0;31mNameError\u001b[0m: name 'df_data' is not defined"
     ]
    }
   ],
   "source": [
    "df_data"
   ]
  },
  {
   "cell_type": "code",
   "execution_count": null,
   "id": "34671200-7951-4fc6-9c96-f86e21b0dd1c",
   "metadata": {},
   "outputs": [],
   "source": []
  },
  {
   "cell_type": "code",
   "execution_count": 27,
   "id": "b083bfb9-814e-4cef-8830-7470529d92fc",
   "metadata": {},
   "outputs": [],
   "source": [
    "response_reg = requests.get(f\"https://api.dataforsyningen.dk/regioner\", headers={'name':'Sevda Öztürk','email':'txg194b@alumni.ku.dk'})\n",
    "res_reg = response_reg.json()\n"
   ]
  },
  {
   "cell_type": "code",
   "execution_count": 28,
   "id": "6e8d0a20-6cbf-4c1f-aebe-ce3b58bc2062",
   "metadata": {},
   "outputs": [
    {
     "name": "stdout",
     "output_type": "stream",
     "text": [
      "[[8.18951662, 56.53454667, 11.22599137, 57.76025478]]\n",
      "[[8.18951662, 56.53454667, 11.22599137, 57.76025478], [8.07887623, 55.64437916, 11.66419061, 56.84325702]]\n",
      "[[8.18951662, 56.53454667, 11.22599137, 57.76025478], [8.07887623, 55.64437916, 11.66419061, 56.84325702], [8.06320315, 54.71828064, 10.99555236, 55.95324986]]\n",
      "[[8.18951662, 56.53454667, 11.22599137, 57.76025478], [8.07887623, 55.64437916, 11.66419061, 56.84325702], [8.06320315, 54.71828064, 10.99555236, 55.95324986], [11.60211644, 54.98354657, 15.31831444, 56.20520188]]\n",
      "[[8.18951662, 56.53454667, 11.22599137, 57.76025478], [8.07887623, 55.64437916, 11.66419061, 56.84325702], [8.06320315, 54.71828064, 10.99555236, 55.95324986], [11.60211644, 54.98354657, 15.31831444, 56.20520188], [10.8148054, 54.54440636, 12.64551576, 56.0173058]]\n"
     ]
    }
   ],
   "source": [
    "regions = []\n",
    "\n",
    "for i in range(0,5):\n",
    "    rg = res_reg[i][\"bbox\"]\n",
    "    regions.append(rg)\n",
    "    print(regions)"
   ]
  },
  {
   "cell_type": "code",
   "execution_count": 29,
   "id": "235f4835-f573-442e-989f-02db7fb2737f",
   "metadata": {},
   "outputs": [
    {
     "data": {
      "text/plain": [
       "[[8.18951662, 56.53454667, 11.22599137, 57.76025478],\n",
       " [8.07887623, 55.64437916, 11.66419061, 56.84325702],\n",
       " [8.06320315, 54.71828064, 10.99555236, 55.95324986],\n",
       " [11.60211644, 54.98354657, 15.31831444, 56.20520188],\n",
       " [10.8148054, 54.54440636, 12.64551576, 56.0173058]]"
      ]
     },
     "execution_count": 29,
     "metadata": {},
     "output_type": "execute_result"
    }
   ],
   "source": [
    "regions"
   ]
  },
  {
   "cell_type": "code",
   "execution_count": 59,
   "id": "6f323c80-ec71-4044-8291-19896a473736",
   "metadata": {},
   "outputs": [
    {
     "data": {
      "text/html": [
       "<div>\n",
       "<style scoped>\n",
       "    .dataframe tbody tr th:only-of-type {\n",
       "        vertical-align: middle;\n",
       "    }\n",
       "\n",
       "    .dataframe tbody tr th {\n",
       "        vertical-align: top;\n",
       "    }\n",
       "\n",
       "    .dataframe thead th {\n",
       "        text-align: right;\n",
       "    }\n",
       "</style>\n",
       "<table border=\"1\" class=\"dataframe\">\n",
       "  <thead>\n",
       "    <tr style=\"text-align: right;\">\n",
       "      <th></th>\n",
       "      <th>new_index</th>\n",
       "      <th>Pris</th>\n",
       "      <th>address</th>\n",
       "      <th>zipcode</th>\n",
       "      <th>m2</th>\n",
       "      <th>rooms</th>\n",
       "      <th>x</th>\n",
       "      <th>y</th>\n",
       "      <th>daycare_distance</th>\n",
       "      <th>train_distance</th>\n",
       "      <th>school_distance</th>\n",
       "      <th>supermarket_distance</th>\n",
       "      <th>hospital_distance</th>\n",
       "      <th>Region</th>\n",
       "    </tr>\n",
       "  </thead>\n",
       "  <tbody>\n",
       "    <tr>\n",
       "      <th>0</th>\n",
       "      <td>0</td>\n",
       "      <td>265.000kr.</td>\n",
       "      <td>Nørmarkvej 29 1 12</td>\n",
       "      <td>7600 Struer</td>\n",
       "      <td>57</td>\n",
       "      <td>2</td>\n",
       "      <td>8.595832</td>\n",
       "      <td>56.482711</td>\n",
       "      <td>464.56</td>\n",
       "      <td>1594.73</td>\n",
       "      <td>1169.06</td>\n",
       "      <td>497.99</td>\n",
       "      <td>15116.95</td>\n",
       "      <td>Midtjylland</td>\n",
       "    </tr>\n",
       "    <tr>\n",
       "      <th>1</th>\n",
       "      <td>1</td>\n",
       "      <td>475.000kr.</td>\n",
       "      <td>Skelvangsvej 105</td>\n",
       "      <td>8920 Randers NV</td>\n",
       "      <td>67</td>\n",
       "      <td>2</td>\n",
       "      <td>10.013025</td>\n",
       "      <td>56.485227</td>\n",
       "      <td>490.10</td>\n",
       "      <td>3649.52</td>\n",
       "      <td>1510.22</td>\n",
       "      <td>1165.91</td>\n",
       "      <td>4289.22</td>\n",
       "      <td>Midtjylland</td>\n",
       "    </tr>\n",
       "    <tr>\n",
       "      <th>2</th>\n",
       "      <td>2</td>\n",
       "      <td>495.000kr.</td>\n",
       "      <td>Lyksborgvej 38</td>\n",
       "      <td>7500 Holstebro</td>\n",
       "      <td>43</td>\n",
       "      <td>2</td>\n",
       "      <td>8.612840</td>\n",
       "      <td>56.371653</td>\n",
       "      <td>259.20</td>\n",
       "      <td>1427.94</td>\n",
       "      <td>477.51</td>\n",
       "      <td>723.78</td>\n",
       "      <td>1964.17</td>\n",
       "      <td>Midtjylland</td>\n",
       "    </tr>\n",
       "    <tr>\n",
       "      <th>3</th>\n",
       "      <td>3</td>\n",
       "      <td>495.000kr.</td>\n",
       "      <td>Nyvangsvej 18</td>\n",
       "      <td>8900 Randers C</td>\n",
       "      <td>50</td>\n",
       "      <td>2</td>\n",
       "      <td>10.027365</td>\n",
       "      <td>56.466636</td>\n",
       "      <td>234.05</td>\n",
       "      <td>1197.57</td>\n",
       "      <td>358.13</td>\n",
       "      <td>404.26</td>\n",
       "      <td>2083.77</td>\n",
       "      <td>Midtjylland</td>\n",
       "    </tr>\n",
       "    <tr>\n",
       "      <th>4</th>\n",
       "      <td>4</td>\n",
       "      <td>525.000kr.</td>\n",
       "      <td>Dalgas Alle 109</td>\n",
       "      <td>7800 Skive</td>\n",
       "      <td>47</td>\n",
       "      <td>1</td>\n",
       "      <td>9.021491</td>\n",
       "      <td>56.546826</td>\n",
       "      <td>892.49</td>\n",
       "      <td>2126.17</td>\n",
       "      <td>892.49</td>\n",
       "      <td>1217.77</td>\n",
       "      <td>3977.31</td>\n",
       "      <td>Nordjylland</td>\n",
       "    </tr>\n",
       "    <tr>\n",
       "      <th>...</th>\n",
       "      <td>...</td>\n",
       "      <td>...</td>\n",
       "      <td>...</td>\n",
       "      <td>...</td>\n",
       "      <td>...</td>\n",
       "      <td>...</td>\n",
       "      <td>...</td>\n",
       "      <td>...</td>\n",
       "      <td>...</td>\n",
       "      <td>...</td>\n",
       "      <td>...</td>\n",
       "      <td>...</td>\n",
       "      <td>...</td>\n",
       "      <td>...</td>\n",
       "    </tr>\n",
       "    <tr>\n",
       "      <th>7097</th>\n",
       "      <td>7097</td>\n",
       "      <td>3.225.000kr.</td>\n",
       "      <td>Bydammen 33</td>\n",
       "      <td>2750 Ballerup</td>\n",
       "      <td>88</td>\n",
       "      <td>3</td>\n",
       "      <td>12.358815</td>\n",
       "      <td>55.730680</td>\n",
       "      <td>810.92</td>\n",
       "      <td>11032.11</td>\n",
       "      <td>713.88</td>\n",
       "      <td>227.25</td>\n",
       "      <td>7111.65</td>\n",
       "      <td>Hovedstaden</td>\n",
       "    </tr>\n",
       "    <tr>\n",
       "      <th>7098</th>\n",
       "      <td>7098</td>\n",
       "      <td>3.750.000kr.</td>\n",
       "      <td>Bydammen 33</td>\n",
       "      <td>2750 Ballerup</td>\n",
       "      <td>107</td>\n",
       "      <td>3</td>\n",
       "      <td>12.358815</td>\n",
       "      <td>55.730680</td>\n",
       "      <td>810.92</td>\n",
       "      <td>11032.11</td>\n",
       "      <td>713.88</td>\n",
       "      <td>227.25</td>\n",
       "      <td>7111.65</td>\n",
       "      <td>Hovedstaden</td>\n",
       "    </tr>\n",
       "    <tr>\n",
       "      <th>7099</th>\n",
       "      <td>7099</td>\n",
       "      <td>2.550.000kr.</td>\n",
       "      <td>Bydammen 23</td>\n",
       "      <td>2750 Ballerup</td>\n",
       "      <td>71</td>\n",
       "      <td>2</td>\n",
       "      <td>12.359918</td>\n",
       "      <td>55.731344</td>\n",
       "      <td>735.14</td>\n",
       "      <td>11938.71</td>\n",
       "      <td>638.10</td>\n",
       "      <td>97.27</td>\n",
       "      <td>7118.35</td>\n",
       "      <td>Hovedstaden</td>\n",
       "    </tr>\n",
       "    <tr>\n",
       "      <th>7100</th>\n",
       "      <td>7100</td>\n",
       "      <td>2.695.000kr.</td>\n",
       "      <td>Bydammen 21</td>\n",
       "      <td>2750 Ballerup</td>\n",
       "      <td>75</td>\n",
       "      <td>2</td>\n",
       "      <td>12.359697</td>\n",
       "      <td>55.731365</td>\n",
       "      <td>722.72</td>\n",
       "      <td>11954.29</td>\n",
       "      <td>625.68</td>\n",
       "      <td>112.85</td>\n",
       "      <td>7133.93</td>\n",
       "      <td>Hovedstaden</td>\n",
       "    </tr>\n",
       "    <tr>\n",
       "      <th>7101</th>\n",
       "      <td>7101</td>\n",
       "      <td>2.398.000kr.</td>\n",
       "      <td>Fjord Alle 8</td>\n",
       "      <td>6950 Ringkøbing</td>\n",
       "      <td>111</td>\n",
       "      <td>4</td>\n",
       "      <td>8.248613</td>\n",
       "      <td>56.087521</td>\n",
       "      <td>1513.47</td>\n",
       "      <td>736.55</td>\n",
       "      <td>1301.32</td>\n",
       "      <td>710.04</td>\n",
       "      <td>579.32</td>\n",
       "      <td>Midtjylland</td>\n",
       "    </tr>\n",
       "  </tbody>\n",
       "</table>\n",
       "<p>7102 rows × 14 columns</p>\n",
       "</div>"
      ],
      "text/plain": [
       "      new_index            Pris               address          zipcode   m2  \\\n",
       "0             0     265.000kr.    Nørmarkvej 29 1 12       7600 Struer   57   \n",
       "1             1     475.000kr.       Skelvangsvej 105  8920 Randers NV   67   \n",
       "2             2     495.000kr.         Lyksborgvej 38   7500 Holstebro   43   \n",
       "3             3     495.000kr.          Nyvangsvej 18   8900 Randers C   50   \n",
       "4             4     525.000kr.        Dalgas Alle 109       7800 Skive   47   \n",
       "...         ...             ...                   ...              ...  ...   \n",
       "7097       7097   3.225.000kr.            Bydammen 33    2750 Ballerup   88   \n",
       "7098       7098   3.750.000kr.            Bydammen 33    2750 Ballerup  107   \n",
       "7099       7099   2.550.000kr.            Bydammen 23    2750 Ballerup   71   \n",
       "7100       7100   2.695.000kr.            Bydammen 21    2750 Ballerup   75   \n",
       "7101       7101   2.398.000kr.           Fjord Alle 8  6950 Ringkøbing  111   \n",
       "\n",
       "      rooms          x          y  daycare_distance  train_distance  \\\n",
       "0         2   8.595832  56.482711            464.56         1594.73   \n",
       "1         2  10.013025  56.485227            490.10         3649.52   \n",
       "2         2   8.612840  56.371653            259.20         1427.94   \n",
       "3         2  10.027365  56.466636            234.05         1197.57   \n",
       "4         1   9.021491  56.546826            892.49         2126.17   \n",
       "...     ...        ...        ...               ...             ...   \n",
       "7097      3  12.358815  55.730680            810.92        11032.11   \n",
       "7098      3  12.358815  55.730680            810.92        11032.11   \n",
       "7099      2  12.359918  55.731344            735.14        11938.71   \n",
       "7100      2  12.359697  55.731365            722.72        11954.29   \n",
       "7101      4   8.248613  56.087521           1513.47          736.55   \n",
       "\n",
       "      school_distance  supermarket_distance  hospital_distance       Region  \n",
       "0             1169.06                497.99           15116.95  Midtjylland  \n",
       "1             1510.22               1165.91            4289.22  Midtjylland  \n",
       "2              477.51                723.78            1964.17  Midtjylland  \n",
       "3              358.13                404.26            2083.77  Midtjylland  \n",
       "4              892.49               1217.77            3977.31  Nordjylland  \n",
       "...               ...                   ...                ...          ...  \n",
       "7097           713.88                227.25            7111.65  Hovedstaden  \n",
       "7098           713.88                227.25            7111.65  Hovedstaden  \n",
       "7099           638.10                 97.27            7118.35  Hovedstaden  \n",
       "7100           625.68                112.85            7133.93  Hovedstaden  \n",
       "7101          1301.32                710.04             579.32  Midtjylland  \n",
       "\n",
       "[7102 rows x 14 columns]"
      ]
     },
     "metadata": {},
     "output_type": "display_data"
    }
   ],
   "source": [
    "def region(df_data):\n",
    "    \n",
    "    if (8.18951662 < df_data['x'] < 11.22599137) and (56.53454667 < df_data['y'] < 57.76025478):  \n",
    "        return 'Nordjylland'\n",
    "    elif (8.07887623 <  df_data['x'] < 11.66419061) and (55.64437916 < df_data['y'] < 56.84325702): \n",
    "        return 'Midtjylland'\n",
    "    elif (8.06320315 < df_data['x'] < 10.99555236) and (54.71828064 < df_data['y'] < 55.95324986):  \n",
    "        return 'Syddanmark'\n",
    "    elif (11.60211644 < df_data['x'] < 15.31831444) and (54.98354657 < df_data['y'] < 56.20520188):  \n",
    "        return 'Hovedstaden'\n",
    "    elif (10.8148054 < df_data['x'] < 12.64551576) and (54.54440636 < df_data['y'] < 56.0173058):  \n",
    "        return 'Sjælland'\n",
    "df_data['Region'] = df_data.apply(region, axis=1)\n",
    "display(df_data)"
   ]
  },
  {
   "cell_type": "code",
   "execution_count": 1,
   "id": "d9339b0b-b382-4327-a5ae-f71a5a6ac8be",
   "metadata": {},
   "outputs": [
    {
     "ename": "NameError",
     "evalue": "name 'df_data' is not defined",
     "output_type": "error",
     "traceback": [
      "\u001b[0;31m---------------------------------------------------------------------------\u001b[0m",
      "\u001b[0;31mNameError\u001b[0m                                 Traceback (most recent call last)",
      "Input \u001b[0;32mIn [1]\u001b[0m, in \u001b[0;36m<cell line: 1>\u001b[0;34m()\u001b[0m\n\u001b[0;32m----> 1\u001b[0m \u001b[43mdf_data\u001b[49m\u001b[38;5;241m.\u001b[39mto_csv(\u001b[38;5;124m'\u001b[39m\u001b[38;5;124mv5With_regions.csv\u001b[39m\u001b[38;5;124m'\u001b[39m, index\u001b[38;5;241m=\u001b[39m\u001b[38;5;28;01mFalse\u001b[39;00m)\n",
      "\u001b[0;31mNameError\u001b[0m: name 'df_data' is not defined"
     ]
    }
   ],
   "source": [
    "df_data.to_csv('v5With_regions.csv', index=False)"
   ]
  },
  {
   "cell_type": "code",
   "execution_count": null,
   "id": "84574e4a-4fd4-402f-ab86-63357195fa67",
   "metadata": {},
   "outputs": [],
   "source": []
  }
 ],
 "metadata": {
  "kernelspec": {
   "display_name": "Python 3 (ipykernel)",
   "language": "python",
   "name": "python3"
  },
  "language_info": {
   "codemirror_mode": {
    "name": "ipython",
    "version": 3
   },
   "file_extension": ".py",
   "mimetype": "text/x-python",
   "name": "python",
   "nbconvert_exporter": "python",
   "pygments_lexer": "ipython3",
   "version": "3.9.12"
  }
 },
 "nbformat": 4,
 "nbformat_minor": 5
}
